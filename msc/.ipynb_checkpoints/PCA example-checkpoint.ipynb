{
 "cells": [
  {
   "cell_type": "code",
   "execution_count": 2,
   "metadata": {},
   "outputs": [],
   "source": [
    "import numpy as np\n",
    "import pandas as pd\n",
    "import numpy.linalg as LA\n",
    "from sklearn import preprocessing\n",
    "from sklearn.decomposition import PCA\n",
    "import matplotlib.pyplot as plt"
   ]
  },
  {
   "cell_type": "code",
   "execution_count": 3,
   "metadata": {},
   "outputs": [],
   "source": [
    "#define functions\n",
    "f= lambda x, a: -a*x**2"
   ]
  },
  {
   "cell_type": "code",
   "execution_count": 9,
   "metadata": {},
   "outputs": [
    {
     "name": "stdout",
     "output_type": "stream",
     "text": [
      "(50,)\n",
      "[-10.          -9.59183673  -9.18367347  -8.7755102   -8.36734694\n",
      "  -7.95918367  -7.55102041  -7.14285714  -6.73469388  -6.32653061\n",
      "  -5.91836735  -5.51020408  -5.10204082  -4.69387755  -4.28571429\n",
      "  -3.87755102  -3.46938776  -3.06122449  -2.65306122  -2.24489796\n",
      "  -1.83673469  -1.42857143  -1.02040816  -0.6122449   -0.20408163\n",
      "   0.20408163   0.6122449    1.02040816   1.42857143   1.83673469\n",
      "   2.24489796   2.65306122   3.06122449   3.46938776   3.87755102\n",
      "   4.28571429   4.69387755   5.10204082   5.51020408   5.91836735\n",
      "   6.32653061   6.73469388   7.14285714   7.55102041   7.95918367\n",
      "   8.36734694   8.7755102    9.18367347   9.59183673  10.        ]\n"
     ]
    }
   ],
   "source": [
    "a=2\n",
    "x=np.linspace(-10,10)\n",
    "print(x.shape)\n",
    "print(x)"
   ]
  },
  {
   "cell_type": "code",
   "execution_count": 10,
   "metadata": {},
   "outputs": [
    {
     "name": "stdout",
     "output_type": "stream",
     "text": [
      "[[-2  2]\n",
      " [-4 -4]\n",
      " [ 4  4]\n",
      " [ 2 -2]\n",
      " [ 0  0]]\n"
     ]
    }
   ],
   "source": [
    "#define dataframe to perform PCA\n",
    "x= np.array([[-2,2],[-4,-4],[4,4],[2,-2],[0,0]])\n",
    "print(x)"
   ]
  },
  {
   "cell_type": "code",
   "execution_count": 14,
   "metadata": {},
   "outputs": [
    {
     "data": {
      "image/png": "[encoded data removed]",
      "text/plain": [
       "<Figure size 432x288 with 1 Axes>"
      ]
     },
     "metadata": {
      "needs_background": "light"
     },
     "output_type": "display_data"
    }
   ],
   "source": [
    "fig1=plt.figure()\n",
    "ax1=fig1.add_subplot(111, aspect='equal')\n",
    "plt.scatter(x[:,0],x[:,1], marker='o')\n",
    "plt.xlabel('x1')\n",
    "plt.ylabel('x2')\n",
    "plt.grid()"
   ]
  },
  {
   "cell_type": "code",
   "execution_count": 17,
   "metadata": {},
   "outputs": [
    {
     "name": "stdout",
     "output_type": "stream",
     "text": [
      "The covariance matrix is \n",
      " [[10.  6.]\n",
      " [ 6. 10.]]\n",
      "The total variance is \n",
      " 20.0\n"
     ]
    }
   ],
   "source": [
    "sigma= np.cov(x[:,0],[x[:,1]])\n",
    "print('The covariance matrix is \\n',sigma)\n",
    "print('The total variance is \\n',np.trace(sigma))"
   ]
  },
  {
   "cell_type": "code",
   "execution_count": 21,
   "metadata": {},
   "outputs": [
    {
     "name": "stdout",
     "output_type": "stream",
     "text": [
      "[16.  4.] [[ 0.70710678 -0.70710678]\n",
      " [ 0.70710678  0.70710678]]\n"
     ]
    },
    {
     "data": {
      "text/plain": [
       "(-6.2225396744416175,\n",
       " 6.2225396744416175,\n",
       " -3.1112698372208087,\n",
       " 3.1112698372208087)"
      ]
     },
     "execution_count": 21,
     "metadata": {},
     "output_type": "execute_result"
    },
    {
     "data": {
      "image/png": "[encoded data removed]",
      "text/plain": [
       "<Figure size 432x288 with 1 Axes>"
      ]
     },
     "metadata": {
      "needs_background": "light"
     },
     "output_type": "display_data"
    }
   ],
   "source": [
    "eigenVAL, eigenVEC= LA.eig(sigma)\n",
    "print(eigenVAL,eigenVEC)\n",
    "fig= plt.figure()\n",
    "ax2=fig.add_subplot(111, aspect='equal')\n",
    "proj_x= np.matmul(x, eigenVEC)\n",
    "plt.scatter(proj_x[:,0],proj_x[:,1], marker='o')\n",
    "plt.xlabel('PC1')\n",
    "plt.ylabel('PC2')\n",
    "plt.axis('equal')"
   ]
  },
  {
   "cell_type": "code",
   "execution_count": 32,
   "metadata": {
    "scrolled": true
   },
   "outputs": [
    {
     "data": {
      "image/png": "[encoded data removed]",
      "text/plain": [
       "<Figure size 720x216 with 2 Axes>"
      ]
     },
     "metadata": {
      "needs_background": "light"
     },
     "output_type": "display_data"
    }
   ],
   "source": [
    "pca= PCA(n_components=2)\n",
    "proj_x_2= pca.fit_transform(x)\n",
    "\n",
    "fig, ax= plt.subplots(1,2, figsize=(10,3))\n",
    "\n",
    "ax[0].set_title(\"The original data\")\n",
    "ax[0].scatter(x[:,0],x[:,1], marker='o')\n",
    "ax[0].set_xlim(-6.5,6.5)\n",
    "ax[0].set_ylim(-4.4,4.5)\n",
    "ax[0].set_aspect('equal',adjustable='box')\n",
    "ax[1].set_title(\"the PCA plot\")\n",
    "ax[1].scatter(proj_x_2[:,0],proj_x_2[:,1], marker='o')\n",
    "ax[1].set_ylim(-4.5,4.5)\n",
    "ax[1].set_xlim(-6.5,6.5)\n",
    "ax[1].set_aspect('equal', adjustable='box')"
   ]
  },
  {
   "cell_type": "code",
   "execution_count": 26,
   "metadata": {
    "scrolled": true
   },
   "outputs": [
    {
     "name": "stdout",
     "output_type": "stream",
     "text": [
      "[16.  4.]\n",
      "[0.8 0.2]\n"
     ]
    },
    {
     "data": {
      "text/plain": [
       "0.8"
      ]
     },
     "execution_count": 26,
     "metadata": {},
     "output_type": "execute_result"
    }
   ],
   "source": [
    "print(pca.explained_variance_)\n",
    "print(pca.explained_variance_ratio_)\n",
    "np.round(pca.explained_variance_[0]/np.sum(pca.explained_variance_),1)"
   ]
  },
  {
   "cell_type": "code",
   "execution_count": 34,
   "metadata": {},
   "outputs": [
    {
     "ename": "NameError",
     "evalue": "name 'df' is not defined",
     "output_type": "error",
     "traceback": [
      "\u001b[1;31m---------------------------------------------------------------------------\u001b[0m",
      "\u001b[1;31mNameError\u001b[0m                                 Traceback (most recent call last)",
      "\u001b[1;32m<ipython-input-34-f0afe9e9a02e>\u001b[0m in \u001b[0;36m<module>\u001b[1;34m\u001b[0m\n\u001b[1;32m----> 1\u001b[1;33m grr= pd.plotting.scatter_matrix(df, c=fd, figsize=(15,15),\n\u001b[0m\u001b[0;32m      2\u001b[0m                                marker='o', hist_kwds={'bins':20}, s=60, alpha=.8, cmap=mglearn.cm3)\n",
      "\u001b[1;31mNameError\u001b[0m: name 'df' is not defined"
     ]
    }
   ],
   "source": [
    "grr= pd.plotting.scatter_matrix(df, c=fd, figsize=(15,15),\n",
    "                               marker='o', hist_kwds={'bins':20}, s=60, alpha=.8, cmap=mglearn.cm3)"
   ]
  }
 ],
 "metadata": {
  "kernelspec": {
   "display_name": "Python 3",
   "language": "python",
   "name": "python3"
  },
  "language_info": {
   "codemirror_mode": {
    "name": "ipython",
    "version": 3
   },
   "file_extension": ".py",
   "mimetype": "text/x-python",
   "name": "python",
   "nbconvert_exporter": "python",
   "pygments_lexer": "ipython3",
   "version": "3.8.5"
  }
 },
 "nbformat": 4,
 "nbformat_minor": 4
}
