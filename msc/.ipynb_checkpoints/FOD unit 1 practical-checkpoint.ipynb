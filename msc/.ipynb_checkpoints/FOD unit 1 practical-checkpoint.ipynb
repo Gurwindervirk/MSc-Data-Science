{
 "cells": [
  {
   "cell_type": "code",
   "execution_count": 1,
   "metadata": {},
   "outputs": [],
   "source": [
    "import numpy as np\n",
    "import pandas as pd\n",
    "import sympy\n",
    "import matplotlib.pyplot as plt\n",
    "import seaborn as sns"
   ]
  },
  {
   "cell_type": "code",
   "execution_count": 3,
   "metadata": {},
   "outputs": [
    {
     "name": "stdout",
     "output_type": "stream",
     "text": [
      "1.19.2\n"
     ]
    }
   ],
   "source": [
    "print(np.__version__)"
   ]
  },
  {
   "cell_type": "code",
   "execution_count": 1,
   "metadata": {},
   "outputs": [],
   "source": [
    "def hellop(x):\n",
    "    print(x)\n",
    "    \n"
   ]
  },
  {
   "cell_type": "code",
   "execution_count": 2,
   "metadata": {},
   "outputs": [
    {
     "name": "stdout",
     "output_type": "stream",
     "text": [
      "hello gurwinder\n"
     ]
    }
   ],
   "source": [
    "y=\"hello gurwinder\"\n",
    "hellop(y)\n",
    "#np? we can ? to see documentation of any module like the code following # sign"
   ]
  },
  {
   "cell_type": "code",
   "execution_count": 54,
   "metadata": {},
   "outputs": [
    {
     "name": "stdout",
     "output_type": "stream",
     "text": [
      "(6,)\n",
      "[1 2 3 4 5 6]\n",
      "[[0.85762553 0.94977903 0.56168686 0.17878052]\n",
      " [0.77025193 0.49238104 0.63125307 0.83949792]\n",
      " [0.4610394  0.49794007 0.67941112 0.65078591]\n",
      " [0.26879524 0.06732467 0.77144514 0.48098413]\n",
      " [0.32920641 0.51064106 0.26362883 0.31051155]]\n"
     ]
    }
   ],
   "source": [
    "# creating an array in Numpy\n",
    "arr= np.array([1,2,3,4,5,6])\n",
    "print(arr.shape)\n",
    "print(arr)\n",
    "arr2=np.random.rand(20).reshape(5,4) # to generate an array of random numbers\n",
    "arr_int= np.random.randint(20, size=(5,4))\n",
    "print(arr2)"
   ]
  },
  {
   "cell_type": "code",
   "execution_count": 57,
   "metadata": {},
   "outputs": [
    {
     "name": "stdout",
     "output_type": "stream",
     "text": [
      "[0.5881308  0.89771373 0.89153073 0.81583748 0.03588959 0.69175758\n",
      " 0.37868094 0.51851095 0.65795147 0.19385022 0.2723164  0.71860593\n",
      " 0.78300361 0.85032764 0.77524489 0.03666431 0.11669374 0.7512807\n",
      " 0.23921822 0.25480601]\n",
      "(5, 4)\n"
     ]
    }
   ],
   "source": [
    "np.random.seed(20) # seed is used to set and random variable so array genertaed will be same every time\n",
    "arr4= np.random.rand(20)\n",
    "print(arr4)\n",
    "print(arr_int.shape)"
   ]
  },
  {
   "cell_type": "code",
   "execution_count": 59,
   "metadata": {},
   "outputs": [
    {
     "data": {
      "text/plain": [
       "array([[10, 20, 30, 85],\n",
       "       [10, 52, 45, 65]])"
      ]
     },
     "metadata": {},
     "output_type": "display_data"
    }
   ],
   "source": [
    "#spliting and merging or joining two arrays\n",
    "arr5= np.array([[10,20,30,85],[10,52,45,65]])\n",
    "display(arr5)"
   ]
  },
  {
   "cell_type": "code",
   "execution_count": 72,
   "metadata": {},
   "outputs": [
    {
     "name": "stdout",
     "output_type": "stream",
     "text": [
      "[array([1, 2]), array([3, 4, 5]), array([6, 7]), array([8, 9]), array([], dtype=int32)]\n"
     ]
    }
   ],
   "source": [
    "arr6=np.hstack([arr5,arr5])#np.concatenate([arr5,arr5], axis=0) # axis 1 means horizontal or x axis 0 means y or vertical\n",
    "#similar can be achived using np.vstack for vertical and np.hstack for horizontal stack\n",
    "arr6\n",
    "x1=np.array([1,2,3,4,5,6,7,8,9])\n",
    "x2= np.split(x1, [2,5,7,9])\n",
    "#np.split?\n",
    "print(x2)\n",
    "#np.split?"
   ]
  },
  {
   "cell_type": "code",
   "execution_count": 88,
   "metadata": {},
   "outputs": [
    {
     "name": "stdout",
     "output_type": "stream",
     "text": [
      "0.0\n",
      "[[0 1 2]\n",
      " [3 4 5]\n",
      " [6 7 8]]\n"
     ]
    },
    {
     "data": {
      "text/plain": [
       "8"
      ]
     },
     "execution_count": 88,
     "metadata": {},
     "output_type": "execute_result"
    }
   ],
   "source": [
    "#mat= np.random.randint(9, size=(3,3))\n",
    "mat=np.arange(9).reshape(3,3) #matrix with 0 determinant\n",
    "print(np.linalg.det(mat))\n",
    "print(mat)\n",
    "#print(np.linalg.inv(mat))\n",
    "np.max(mat)"
   ]
  },
  {
   "cell_type": "code",
   "execution_count": 85,
   "metadata": {},
   "outputs": [
    {
     "name": "stdout",
     "output_type": "stream",
     "text": [
      "2*x**3 + 5*x + 15\n"
     ]
    }
   ],
   "source": [
    "x= sympy.Symbol('x')\n",
    "fx= 2*x**3+5*x+ 15\n",
    "print(np.min(fx).doit())"
   ]
  }
 ],
 "metadata": {
  "kernelspec": {
   "display_name": "Python 3",
   "language": "python",
   "name": "python3"
  },
  "language_info": {
   "codemirror_mode": {
    "name": "ipython",
    "version": 3
   },
   "file_extension": ".py",
   "mimetype": "text/x-python",
   "name": "python",
   "nbconvert_exporter": "python",
   "pygments_lexer": "ipython3",
   "version": "3.8.5"
  }
 },
 "nbformat": 4,
 "nbformat_minor": 4
}
