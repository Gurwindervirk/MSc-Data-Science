{
 "cells": [
  {
   "cell_type": "code",
   "execution_count": 1,
   "metadata": {},
   "outputs": [],
   "source": [
    "import numpy as np\n",
    "import matplotlib.pyplot as plt\n",
    "from sympy import Symbol, Derivative\n",
    "import sympy"
   ]
  },
  {
   "cell_type": "code",
   "execution_count": 2,
   "metadata": {},
   "outputs": [
    {
     "data": {
      "text/latex": [
       "$\\displaystyle m^{2} + 10 m$"
      ],
      "text/plain": [
       "m**2 + 10*m"
      ]
     },
     "execution_count": 2,
     "metadata": {},
     "output_type": "execute_result"
    }
   ],
   "source": [
    "m= Symbol('m')\n",
    "n=Symbol('n')\n",
    "fx= m**2*n+10*m*n\n",
    "df =Derivative(fx,m) # derivating with respect to m\n",
    "df.doit()\n",
    "df2= Derivative(fx,n) # derivating with respect to n\n",
    "df2.doit()"
   ]
  },
  {
   "cell_type": "code",
   "execution_count": 3,
   "metadata": {},
   "outputs": [
    {
     "data": {
      "text/latex": [
       "$\\displaystyle 2 n$"
      ],
      "text/plain": [
       "2*n"
      ]
     },
     "execution_count": 3,
     "metadata": {},
     "output_type": "execute_result"
    }
   ],
   "source": [
    "#performing a second order derviative using derivative function\n",
    "df_2nd= Derivative(fx,m,2)\n",
    "df_2nd.doit()"
   ]
  },
  {
   "cell_type": "code",
   "execution_count": 4,
   "metadata": {},
   "outputs": [],
   "source": [
    "x= Symbol('x')\n",
    "fx_=x**5-25*x**3+50*x"
   ]
  },
  {
   "cell_type": "code",
   "execution_count": 5,
   "metadata": {},
   "outputs": [],
   "source": [
    "from sympy import solve\n",
    "dy = Derivative(fx_, x).doit()\n",
    "\n"
   ]
  },
  {
   "cell_type": "code",
   "execution_count": 6,
   "metadata": {},
   "outputs": [
    {
     "data": {
      "text/plain": [
       "[-sqrt(15/2 - sqrt(185)/2),\n",
       " sqrt(15/2 - sqrt(185)/2),\n",
       " -sqrt(sqrt(185)/2 + 15/2),\n",
       " sqrt(sqrt(185)/2 + 15/2)]"
      ]
     },
     "execution_count": 6,
     "metadata": {},
     "output_type": "execute_result"
    }
   ],
   "source": [
    "dy=5*x**4-75*x**2+50\n",
    "x_critical_points= solve(dy)\n",
    "x_critical_points"
   ]
  },
  {
   "cell_type": "code",
   "execution_count": 7,
   "metadata": {},
   "outputs": [],
   "source": [
    "dy2= Derivative(fx_,x,2).doit()\n",
    "dy2"
   ]
  },
  {
   "cell_type": "code",
   "execution_count": null,
   "metadata": {},
   "outputs": [],
   "source": [
    "\n"
   ]
  },
  {
   "cell_type": "code",
   "execution_count": 8,
   "metadata": {},
   "outputs": [
    {
     "name": "stdout",
     "output_type": "stream",
     "text": [
      "-sqrt(15/2 - sqrt(185)/2)  is local minimum at: 113.738286404346\n",
      "sqrt(15/2 - sqrt(185)/2) is local maximum at -113.738286404346\n",
      "-sqrt(sqrt(185)/2 + 15/2) is local maximum at -514.357465393284\n",
      "sqrt(sqrt(185)/2 + 15/2)  is local minimum at: 514.357465393284\n"
     ]
    }
   ],
   "source": [
    "ls=[]\n",
    "for ind, i in enumerate(x_critical_points):\n",
    "    \n",
    "    cr=dy2.subs({x:x_critical_points[ind]}).evalf()\n",
    "    ls.append(cr)\n",
    "for i, m in enumerate(ls):\n",
    "    if m>0:\n",
    "            print(x_critical_points[i],\" is local minimum at:\",m)\n",
    "    elif m<0:\n",
    "            print(x_critical_points[i],\"is local maximum at\",m)\n",
    "    else:\n",
    "            print(x_critical_points[i],\"is saddle point at\", m)"
   ]
  },
  {
   "cell_type": "code",
   "execution_count": null,
   "metadata": {},
   "outputs": [],
   "source": []
  },
  {
   "cell_type": "code",
   "execution_count": 9,
   "metadata": {},
   "outputs": [
    {
     "data": {
      "text/latex": [
       "$\\displaystyle 113.738286404346$"
      ],
      "text/plain": [
       "113.738286404346"
      ]
     },
     "execution_count": 9,
     "metadata": {},
     "output_type": "execute_result"
    }
   ],
   "source": [
    "dy2.subs({x:x_critical_points[0]}).evalf()"
   ]
  },
  {
   "cell_type": "code",
   "execution_count": 10,
   "metadata": {},
   "outputs": [
    {
     "data": {
      "text/latex": [
       "$\\displaystyle -113.738286404346$"
      ],
      "text/plain": [
       "-113.738286404346"
      ]
     },
     "execution_count": 10,
     "metadata": {},
     "output_type": "execute_result"
    }
   ],
   "source": [
    "dy2.subs({x:x_critical_points[1]}).evalf()"
   ]
  },
  {
   "cell_type": "code",
   "execution_count": 11,
   "metadata": {},
   "outputs": [
    {
     "data": {
      "text/latex": [
       "$\\displaystyle -514.357465393284$"
      ],
      "text/plain": [
       "-514.357465393284"
      ]
     },
     "execution_count": 11,
     "metadata": {},
     "output_type": "execute_result"
    }
   ],
   "source": [
    "dy2.subs({x:x_critical_points[2]}).evalf()"
   ]
  },
  {
   "cell_type": "code",
   "execution_count": 12,
   "metadata": {},
   "outputs": [
    {
     "data": {
      "text/latex": [
       "$\\displaystyle 514.357465393284$"
      ],
      "text/plain": [
       "514.357465393284"
      ]
     },
     "execution_count": 12,
     "metadata": {},
     "output_type": "execute_result"
    }
   ],
   "source": [
    "dy2.subs({x:x_critical_points[3]}).evalf()"
   ]
  },
  {
   "cell_type": "code",
   "execution_count": 13,
   "metadata": {},
   "outputs": [
    {
     "data": {
      "text/latex": [
       "$\\displaystyle 2 x e^{\\sin{\\left(x \\right)}} \\cos{\\left(x \\right)} + 2 e^{\\sin{\\left(x \\right)}}$"
      ],
      "text/plain": [
       "2*x*exp(sin(x))*cos(x) + 2*exp(sin(x))"
      ]
     },
     "execution_count": 13,
     "metadata": {},
     "output_type": "execute_result"
    }
   ],
   "source": [
    "sympy.diff((2*x)*sympy.exp(sympy.sin(x)))"
   ]
  },
  {
   "cell_type": "code",
   "execution_count": null,
   "metadata": {},
   "outputs": [],
   "source": []
  },
  {
   "cell_type": "code",
   "execution_count": 14,
   "metadata": {},
   "outputs": [
    {
     "name": "stdout",
     "output_type": "stream",
     "text": [
      "-sqrt(15/2 - sqrt(185)/2)  is local minimum at: 113.738286404346\n",
      "sqrt(15/2 - sqrt(185)/2) is local maximum at -113.738286404346\n",
      "-sqrt(sqrt(185)/2 + 15/2) is local maximum at -514.357465393284\n",
      "sqrt(sqrt(185)/2 + 15/2)  is local minimum at: 514.357465393284\n"
     ]
    }
   ],
   "source": [
    "fx2= (x**2)*sympy.exp(sympy.sin(x))\n",
    "import master_code\n",
    "d= master_code.df(fx2,x)\n",
    "dfg= master_code.min_max(fx_,x)"
   ]
  },
  {
   "cell_type": "code",
   "execution_count": 15,
   "metadata": {},
   "outputs": [
    {
     "data": {
      "text/latex": [
       "$\\displaystyle 16 n$"
      ],
      "text/plain": [
       "16*n"
      ]
     },
     "execution_count": 15,
     "metadata": {},
     "output_type": "execute_result"
    }
   ],
   "source": [
    "from sympy import Integral\n",
    "m = Symbol('m')\n",
    "n= Symbol('n')\n",
    "\n",
    "Integral(m*n,(m, 2,6)).doit()"
   ]
  },
  {
   "cell_type": "code",
   "execution_count": 16,
   "metadata": {},
   "outputs": [
    {
     "data": {
      "text/latex": [
       "$\\displaystyle 16$"
      ],
      "text/plain": [
       "16"
      ]
     },
     "execution_count": 16,
     "metadata": {},
     "output_type": "execute_result"
    }
   ],
   "source": [
    "Integral(m,(m, 2,6)).doit()"
   ]
  },
  {
   "cell_type": "markdown",
   "metadata": {},
   "source": [
    "### Gradient ascent example"
   ]
  },
  {
   "cell_type": "code",
   "execution_count": 17,
   "metadata": {},
   "outputs": [
    {
     "data": {
      "text/plain": [
       "\"from sympy import Derivative, Symbol, sympify, SympifyError\\n\\ndef grad_ascent(x0, f1x, x):\\n    threshold = 1e-6\\n    epsilon = 1e-4\\n    x_old = x0\\n    x_new = x_old + epsilon*f1x.subs({x:x_old}).evalf()\\n    while abs(x_old - x_new) > threshold:\\n        x_old = x_new\\n        x_new = x_old + epsilon *f1x.subs({x:x_old}).evalf()\\n        \\n    return x_new    \\n\\nif __name__ == '__main__':\\n    \\n    f = input('Enter a function in one variable:')\\n    var = input('Enter the variable to differentiate with respect to: ')\\n    var0 = float(input('Enter the initial value of the variable: '))\\n    try:\\n        f = sympify(f)\\n    except SympifyError:\\n        print('Invalid function entered')\\n    else:\\n        var = Symbol(var)\\n        d = Derivative(f, var).doit()\\n        var_max = grad_ascent(var0, d, var)\\n        print('{0}: {1}'.format(var.name, var_max))\\n        print('Maximum value: {0}'.format(f.subs({var:var_max})))\""
      ]
     },
     "execution_count": 17,
     "metadata": {},
     "output_type": "execute_result"
    }
   ],
   "source": [
    "\"\"\"from sympy import Derivative, Symbol, sympify, SympifyError\n",
    "\n",
    "def grad_ascent(x0, f1x, x):\n",
    "    threshold = 1e-6\n",
    "    epsilon = 1e-4\n",
    "    x_old = x0\n",
    "    x_new = x_old + epsilon*f1x.subs({x:x_old}).evalf()\n",
    "    while abs(x_old - x_new) > threshold:\n",
    "        x_old = x_new\n",
    "        x_new = x_old + epsilon *f1x.subs({x:x_old}).evalf()\n",
    "        \n",
    "    return x_new    \n",
    "\n",
    "if __name__ == '__main__':\n",
    "    \n",
    "    f = input('Enter a function in one variable:')\n",
    "    var = input('Enter the variable to differentiate with respect to: ')\n",
    "    var0 = float(input('Enter the initial value of the variable: '))\n",
    "    try:\n",
    "        f = sympify(f)\n",
    "    except SympifyError:\n",
    "        print('Invalid function entered')\n",
    "    else:\n",
    "        var = Symbol(var)\n",
    "        d = Derivative(f, var).doit()\n",
    "        var_max = grad_ascent(var0, d, var)\n",
    "        print('{0}: {1}'.format(var.name, var_max))\n",
    "        print('Maximum value: {0}'.format(f.subs({var:var_max})))\"\"\""
   ]
  },
  {
   "cell_type": "code",
   "execution_count": 18,
   "metadata": {},
   "outputs": [
    {
     "data": {
      "text/plain": [
       "\".. _boston_dataset:\\n\\nBoston house prices dataset\\n---------------------------\\n\\n**Data Set Characteristics:**  \\n\\n    :Number of Instances: 506 \\n\\n    :Number of Attributes: 13 numeric/categorical predictive. Median Value (attribute 14) is usually the target.\\n\\n    :Attribute Information (in order):\\n        - CRIM     per capita crime rate by town\\n        - ZN       proportion of residential land zoned for lots over 25,000 sq.ft.\\n        - INDUS    proportion of non-retail business acres per town\\n        - CHAS     Charles River dummy variable (= 1 if tract bounds river; 0 otherwise)\\n        - NOX      nitric oxides concentration (parts per 10 million)\\n        - RM       average number of rooms per dwelling\\n        - AGE      proportion of owner-occupied units built prior to 1940\\n        - DIS      weighted distances to five Boston employment centres\\n        - RAD      index of accessibility to radial highways\\n        - TAX      full-value property-tax rate per $10,000\\n        - PTRATIO  pupil-teacher ratio by town\\n        - B        1000(Bk - 0.63)^2 where Bk is the proportion of blacks by town\\n        - LSTAT    % lower status of the population\\n        - MEDV     Median value of owner-occupied homes in $1000's\\n\\n    :Missing Attribute Values: None\\n\\n    :Creator: Harrison, D. and Rubinfeld, D.L.\\n\\nThis is a copy of UCI ML housing dataset.\\nhttps://archive.ics.uci.edu/ml/machine-learning-databases/housing/\\n\\n\\nThis dataset was taken from the StatLib library which is maintained at Carnegie Mellon University.\\n\\nThe Boston house-price data of Harrison, D. and Rubinfeld, D.L. 'Hedonic\\nprices and the demand for clean air', J. Environ. Economics & Management,\\nvol.5, 81-102, 1978.   Used in Belsley, Kuh & Welsch, 'Regression diagnostics\\n...', Wiley, 1980.   N.B. Various transformations are used in the table on\\npages 244-261 of the latter.\\n\\nThe Boston house-price data has been used in many machine learning papers that address regression\\nproblems.   \\n     \\n.. topic:: References\\n\\n   - Belsley, Kuh & Welsch, 'Regression diagnostics: Identifying Influential Data and Sources of Collinearity', Wiley, 1980. 244-261.\\n   - Quinlan,R. (1993). Combining Instance-Based and Model-Based Learning. In Proceedings on the Tenth International Conference of Machine Learning, 236-243, University of Massachusetts, Amherst. Morgan Kaufmann.\\n\""
      ]
     },
     "execution_count": 18,
     "metadata": {},
     "output_type": "execute_result"
    }
   ],
   "source": [
    "from sklearn.datasets import load_boston\n",
    "dt= load_boston()\n",
    "dt.DESCR"
   ]
  },
  {
   "cell_type": "code",
   "execution_count": 20,
   "metadata": {},
   "outputs": [],
   "source": [
    "from sklearn.datasets import load_iris\n",
    "dt1= load_iris()"
   ]
  },
  {
   "cell_type": "code",
   "execution_count": 27,
   "metadata": {},
   "outputs": [
    {
     "ename": "AttributeError",
     "evalue": "'numpy.ndarray' object has no attribute 'apply'",
     "output_type": "error",
     "traceback": [
      "\u001b[1;31m---------------------------------------------------------------------------\u001b[0m",
      "\u001b[1;31mAttributeError\u001b[0m                            Traceback (most recent call last)",
      "\u001b[1;32m<ipython-input-27-131b994932f0>\u001b[0m in \u001b[0;36m<module>\u001b[1;34m\u001b[0m\n\u001b[0;32m      1\u001b[0m \u001b[1;32mimport\u001b[0m \u001b[0mpandas\u001b[0m \u001b[1;32mas\u001b[0m \u001b[0mpd\u001b[0m\u001b[1;33m\u001b[0m\u001b[1;33m\u001b[0m\u001b[0m\n\u001b[1;32m----> 2\u001b[1;33m \u001b[0mdf\u001b[0m\u001b[1;33m=\u001b[0m \u001b[0mpd\u001b[0m\u001b[1;33m.\u001b[0m\u001b[0mDataFrame\u001b[0m\u001b[1;33m(\u001b[0m\u001b[0mdata\u001b[0m\u001b[1;33m=\u001b[0m \u001b[0mnp\u001b[0m\u001b[1;33m.\u001b[0m\u001b[0mc_\u001b[0m\u001b[1;33m[\u001b[0m\u001b[0mdt1\u001b[0m\u001b[1;33m[\u001b[0m\u001b[1;34m'data'\u001b[0m\u001b[1;33m]\u001b[0m\u001b[1;33m,\u001b[0m \u001b[0mdt1\u001b[0m\u001b[1;33m[\u001b[0m\u001b[1;34m'target'\u001b[0m\u001b[1;33m]\u001b[0m\u001b[1;33m]\u001b[0m\u001b[1;33m,\u001b[0m \u001b[0mcolumns\u001b[0m\u001b[1;33m=\u001b[0m \u001b[0mdt1\u001b[0m\u001b[1;33m[\u001b[0m\u001b[1;34m'feature_names'\u001b[0m\u001b[1;33m]\u001b[0m\u001b[1;33m+\u001b[0m\u001b[0mdt1\u001b[0m\u001b[1;33m[\u001b[0m\u001b[1;34m'target'\u001b[0m\u001b[1;33m]\u001b[0m\u001b[1;33m.\u001b[0m\u001b[0mapply\u001b[0m\u001b[1;33m(\u001b[0m\u001b[0mstr\u001b[0m\u001b[1;33m)\u001b[0m\u001b[1;33m)\u001b[0m\u001b[1;33m\u001b[0m\u001b[1;33m\u001b[0m\u001b[0m\n\u001b[0m",
      "\u001b[1;31mAttributeError\u001b[0m: 'numpy.ndarray' object has no attribute 'apply'"
     ]
    }
   ],
   "source": [
    "import pandas as pd\n",
    "df= pd.DataFrame(data= np.c_[dt1['data'], dt1['target']], columns= dt1['feature_names']+dt1['target'])"
   ]
  }
 ],
 "metadata": {
  "kernelspec": {
   "display_name": "Python 3",
   "language": "python",
   "name": "python3"
  }
 },
 "nbformat": 4,
 "nbformat_minor": 4
}
