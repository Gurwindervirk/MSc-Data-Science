{
 "cells": [
  {
   "cell_type": "code",
   "execution_count": 1,
   "metadata": {},
   "outputs": [],
   "source": [
    "import pandas as pd\n",
    "import numpy as np\n",
    "from sympy import FiniteSet"
   ]
  },
  {
   "cell_type": "code",
   "execution_count": null,
   "metadata": {},
   "outputs": [],
   "source": []
  },
  {
   "cell_type": "code",
   "execution_count": 2,
   "metadata": {},
   "outputs": [
    {
     "name": "stdout",
     "output_type": "stream",
     "text": [
      "FiniteSet(1, 2, 3, 4, 5, 6, 7, 8, 9)\n",
      "9\n"
     ]
    }
   ],
   "source": [
    "set1= FiniteSet(1,2,3,4,5,6,7,8,9)\n",
    "print(set1)\n",
    "print(len(set1))"
   ]
  },
  {
   "cell_type": "code",
   "execution_count": 3,
   "metadata": {},
   "outputs": [
    {
     "data": {
      "text/latex": [
       "$\\displaystyle \\left\\{0.4, 4, 10.6\\right\\}$"
      ],
      "text/plain": [
       "FiniteSet(0.4, 4, 10.6)"
      ]
     },
     "execution_count": 3,
     "metadata": {},
     "output_type": "execute_result"
    }
   ],
   "source": [
    "s1= FiniteSet(2/5,4,10.6)\n",
    "s2= FiniteSet()\n",
    "s1"
   ]
  },
  {
   "cell_type": "code",
   "execution_count": 4,
   "metadata": {},
   "outputs": [
    {
     "data": {
      "text/latex": [
       "$\\displaystyle \\left\\{\\frac{2}{5}, 4, 10.6\\right\\}$"
      ],
      "text/plain": [
       "FiniteSet(2/5, 4, 10.6)"
      ]
     },
     "execution_count": 4,
     "metadata": {},
     "output_type": "execute_result"
    }
   ],
   "source": [
    "from fractions import Fraction\n",
    "s1= FiniteSet(Fraction(2,5),4,10.6)\n",
    "s1"
   ]
  },
  {
   "cell_type": "code",
   "execution_count": 5,
   "metadata": {},
   "outputs": [
    {
     "name": "stdout",
     "output_type": "stream",
     "text": [
      "0\n",
      "3\n"
     ]
    }
   ],
   "source": [
    "print(len(s2))\n",
    "print(len(s1))"
   ]
  },
  {
   "cell_type": "code",
   "execution_count": 6,
   "metadata": {},
   "outputs": [
    {
     "data": {
      "text/plain": [
       "True"
      ]
     },
     "execution_count": 6,
     "metadata": {},
     "output_type": "execute_result"
    }
   ],
   "source": [
    "L=[0,2,4,8,6,4,2]\n",
    "T= FiniteSet(*L)\n",
    "P= FiniteSet(*L)\n",
    "T==P"
   ]
  },
  {
   "cell_type": "code",
   "execution_count": 7,
   "metadata": {},
   "outputs": [
    {
     "data": {
      "text/latex": [
       "$\\displaystyle \\left\\{\\emptyset, \\left\\{0\\right\\}, \\left\\{2\\right\\}, \\left\\{4\\right\\}, \\left\\{0, 2\\right\\}, \\left\\{0, 4\\right\\}, \\left\\{2, 4\\right\\}, \\left\\{0, 2, 4\\right\\}\\right\\}$"
      ],
      "text/plain": [
       "FiniteSet(FiniteSet(0), FiniteSet(0, 2), FiniteSet(0, 4), FiniteSet(0, 2, 4), FiniteSet(2), FiniteSet(2, 4), FiniteSet(4), EmptySet)"
      ]
     },
     "execution_count": 7,
     "metadata": {},
     "output_type": "execute_result"
    }
   ],
   "source": [
    "p2= FiniteSet(0,2,4)\n",
    "p2.is_subset(T)\n",
    "p2.is_proper_subset(P)\n",
    "T.is_proper_subset(P)\n",
    "p2.powerset()"
   ]
  },
  {
   "cell_type": "code",
   "execution_count": 8,
   "metadata": {},
   "outputs": [
    {
     "name": "stdout",
     "output_type": "stream",
     "text": [
      "FiniteSet(0, 2, 3, 4, 6, 7)\n",
      "FiniteSet(0)\n"
     ]
    }
   ],
   "source": [
    "s1=FiniteSet(0,2,4,6)\n",
    "s2=FiniteSet(0,3,7)\n",
    "print(s1.union(s2))\n",
    "print(s1.intersection(s2))"
   ]
  },
  {
   "cell_type": "code",
   "execution_count": 9,
   "metadata": {},
   "outputs": [
    {
     "name": "stdout",
     "output_type": "stream",
     "text": [
      "Union of two sets\n",
      " FiniteSet(1, 2, 3, 10, 21, 99)\n",
      "Intersection of Two sets\n",
      " FiniteSet(1, 10)\n",
      "(1, 1)\n",
      "(2, 1)\n",
      "(1, 3)\n",
      "(10, 1)\n",
      "(2, 3)\n",
      "(1, 10)\n",
      "(99, 1)\n",
      "(10, 3)\n",
      "(2, 10)\n",
      "(1, 21)\n",
      "(99, 3)\n",
      "(10, 10)\n",
      "(2, 21)\n",
      "(99, 10)\n",
      "(10, 21)\n",
      "(99, 21)\n"
     ]
    }
   ],
   "source": [
    "a=FiniteSet(1,2,10,99)\n",
    "b=FiniteSet(3,10,21,1)\n",
    "print(\"Union of two sets\\n\",a.union(b))\n",
    "print(\"Intersection of Two sets\\n\", a.intersection(b))\n",
    "CP= a*b\n",
    "for i in CP:\n",
    "    print(i)"
   ]
  },
  {
   "cell_type": "markdown",
   "metadata": {},
   "source": [
    "# Numpy mathematical functions"
   ]
  },
  {
   "cell_type": "code",
   "execution_count": 10,
   "metadata": {},
   "outputs": [
    {
     "data": {
      "text/plain": [
       "[<matplotlib.lines.Line2D at 0x2034b2ff880>]"
      ]
     },
     "execution_count": 10,
     "metadata": {},
     "output_type": "execute_result"
    },
    {
     "data": {
      "image/png": "[encoded data removed]",
      "text/plain": [
       "<Figure size 432x288 with 1 Axes>"
      ]
     },
     "metadata": {
      "needs_background": "light"
     },
     "output_type": "display_data"
    }
   ],
   "source": [
    "x=np.linspace(0,4*np.pi, 100)\n",
    "import matplotlib.pyplot as plt\n",
    "#plt.plot(x, np.sin(x))\n",
    "#plt.plot(x,np.cos(x))\n",
    "plt.plot(x, np.tan(x), color='r')"
   ]
  },
  {
   "cell_type": "code",
   "execution_count": 12,
   "metadata": {},
   "outputs": [
    {
     "data": {
      "text/plain": [
       "25"
      ]
     },
     "execution_count": 12,
     "metadata": {},
     "output_type": "execute_result"
    }
   ],
   "source": [
    "#other useful function\n",
    "np.exp(4)\n",
    "x=2\n",
    "y=5\n",
    "np.exp2(x)\n",
    "np.power(y,x)"
   ]
  },
  {
   "cell_type": "code",
   "execution_count": 15,
   "metadata": {},
   "outputs": [
    {
     "name": "stdout",
     "output_type": "stream",
     "text": [
      "[0 0 0 0 0 0 0 0]\n"
     ]
    }
   ],
   "source": [
    "v=np.array([1,0,0,1,0,1,0,0])\n",
    "n=np.array([0,1,0,0,1,0,1,0])\n",
    "print(v*n)"
   ]
  }
 ],
 "metadata": {
  "kernelspec": {
   "display_name": "Python 3",
   "language": "python",
   "name": "python3"
  },
  "language_info": {
   "codemirror_mode": {
    "name": "ipython",
    "version": 3
   },
   "file_extension": ".py",
   "mimetype": "text/x-python",
   "name": "python",
   "nbconvert_exporter": "python",
   "pygments_lexer": "ipython3",
   "version": "3.8.5"
  }
 },
 "nbformat": 4,
 "nbformat_minor": 4
}
