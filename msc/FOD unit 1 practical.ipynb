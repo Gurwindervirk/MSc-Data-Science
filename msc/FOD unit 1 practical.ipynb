{
 "cells": [
  {
   "cell_type": "code",
   "execution_count": 1,
   "metadata": {},
   "outputs": [
    {
     "name": "stdout",
     "output_type": "stream",
     "text": [
      "1.19.2\n",
      "hello gurwinder\n",
      "(6,)\n",
      "[1 2 3 4 5 6]\n",
      "[[0.71845572 0.75209709 0.69614745 0.67233011]\n",
      " [0.712845   0.00539894 0.27823921 0.0199967 ]\n",
      " [0.09494486 0.02920028 0.09633289 0.82131226]\n",
      " [0.65008519 0.65891774 0.31798395 0.95295033]\n",
      " [0.3513835  0.67345764 0.58903871 0.66692981]]\n",
      "[0.5881308  0.89771373 0.89153073 0.81583748 0.03588959 0.69175758\n",
      " 0.37868094 0.51851095 0.65795147 0.19385022 0.2723164  0.71860593\n",
      " 0.78300361 0.85032764 0.77524489 0.03666431 0.11669374 0.7512807\n",
      " 0.23921822 0.25480601]\n",
      "(5, 4)\n"
     ]
    },
    {
     "data": {
      "text/plain": [
       "array([[10, 20, 30, 85],\n",
       "       [10, 52, 45, 65]])"
      ]
     },
     "metadata": {},
     "output_type": "display_data"
    },
    {
     "name": "stdout",
     "output_type": "stream",
     "text": [
      "[array([1, 2]), array([3, 4, 5]), array([6, 7]), array([8, 9]), array([], dtype=int32)]\n",
      "0.0\n",
      "[[0 1 2]\n",
      " [3 4 5]\n",
      " [6 7 8]]\n",
      "2*x**3 + 5*x + 15\n"
     ]
    }
   ],
   "source": [
    "import numpy as np\n",
    "import pandas as pd\n",
    "import sympy\n",
    "import matplotlib.pyplot as plt\n",
    "import seaborn as sns\n",
    "import fod"
   ]
  },
  {
   "cell_type": "code",
   "execution_count": 2,
   "metadata": {},
   "outputs": [
    {
     "name": "stdout",
     "output_type": "stream",
     "text": [
      "1.19.2\n"
     ]
    }
   ],
   "source": [
    "print(np.__version__)"
   ]
  },
  {
   "cell_type": "code",
   "execution_count": 3,
   "metadata": {},
   "outputs": [
    {
     "name": "stdout",
     "output_type": "stream",
     "text": [
      "great it worked\n"
     ]
    }
   ],
   "source": [
    "f=\"great it worked\"\n",
    "fod.hellop(f)"
   ]
  },
  {
   "cell_type": "code",
   "execution_count": 5,
   "metadata": {},
   "outputs": [
    {
     "name": "stdout",
     "output_type": "stream",
     "text": [
      "hello gurwinder\n"
     ]
    }
   ],
   "source": [
    "y=\"hello gurwinder\"\n",
    "fod.hellop(y)\n",
    "#np? we can ? to see documentation of any module like the code following # sign"
   ]
  },
  {
   "cell_type": "code",
   "execution_count": 8,
   "metadata": {
    "scrolled": true
   },
   "outputs": [
    {
     "name": "stdout",
     "output_type": "stream",
     "text": [
      "(6,)\n",
      "[1 2 3 4 5 6]\n",
      "[[0.83889446 0.03553703 0.12144377 0.89100806]\n",
      " [0.51509223 0.92441901 0.58124263 0.77325639]\n",
      " [0.42267689 0.82546475 0.38540456 0.35434596]\n",
      " [0.42807852 0.39506518 0.84462971 0.37382381]\n",
      " [0.37158098 0.41594296 0.42454448 0.66280484]]\n",
      "[[ 9 10  0 15]\n",
      " [15 10  4  3]\n",
      " [12 10  2  7]\n",
      " [ 0 11 15 18]\n",
      " [ 7 11  7  5]]\n"
     ]
    }
   ],
   "source": [
    "# creating an array in Numpy\n",
    "arr= np.array([1,2,3,4,5,6])\n",
    "print(arr.shape)\n",
    "print(arr)\n",
    "arr2=np.random.rand(20).reshape(5,4) # to generate an array of random numbers\n",
    "arr_int= np.random.randint(20, size=(5,4))\n",
    "print(arr2)\n",
    "print(arr_int)"
   ]
  },
  {
   "cell_type": "code",
   "execution_count": 14,
   "metadata": {},
   "outputs": [
    {
     "name": "stdout",
     "output_type": "stream",
     "text": [
      "[0.5881308  0.89771373 0.89153073 0.81583748 0.03588959 0.69175758\n",
      " 0.37868094 0.51851095 0.65795147 0.19385022 0.2723164  0.71860593\n",
      " 0.78300361 0.85032764 0.77524489 0.03666431 0.11669374 0.7512807\n",
      " 0.23921822 0.25480601]\n",
      "(5, 4)\n"
     ]
    }
   ],
   "source": [
    "np.random.seed(20) # seed is used to set and random variable so array genertaed will be same every time\n",
    "arr4= np.random.rand(20)\n",
    "print(arr4)\n",
    "print(arr_int.shape)"
   ]
  },
  {
   "cell_type": "code",
   "execution_count": 15,
   "metadata": {},
   "outputs": [
    {
     "data": {
      "text/plain": [
       "array([[10, 20, 30, 85],\n",
       "       [10, 52, 45, 65]])"
      ]
     },
     "metadata": {},
     "output_type": "display_data"
    }
   ],
   "source": [
    "#spliting and merging or joining two arrays\n",
    "arr5= np.array([[10,20,30,85],[10,52,45,65]])\n",
    "display(arr5)"
   ]
  },
  {
   "cell_type": "code",
   "execution_count": 17,
   "metadata": {},
   "outputs": [
    {
     "name": "stdout",
     "output_type": "stream",
     "text": [
      "[[10 20 30 85 10 20 30 85]\n",
      " [10 52 45 65 10 52 45 65]]\n",
      "[array([1, 2]), array([3, 4, 5]), array([6, 7]), array([8, 9]), array([], dtype=int32)]\n"
     ]
    }
   ],
   "source": [
    "arr6=np.hstack([arr5,arr5])#np.concatenate([arr5,arr5], axis=0) # axis 1 means horizontal or x axis 0 means y or vertical\n",
    "#similar can be achived using np.vstack for vertical and np.hstack for horizontal stack\n",
    "print(arr6)\n",
    "x1=np.array([1,2,3,4,5,6,7,8,9])\n",
    "x2= np.split(x1, [2,5,7,9])\n",
    "#np.split?\n",
    "print(x2)\n",
    "#np.split?"
   ]
  },
  {
   "cell_type": "code",
   "execution_count": 22,
   "metadata": {},
   "outputs": [
    {
     "name": "stdout",
     "output_type": "stream",
     "text": [
      "0.0\n",
      "[[0 1 2]\n",
      " [3 4 5]\n",
      " [6 7 8]]\n"
     ]
    },
    {
     "ename": "AttributeError",
     "evalue": "module 'numpy' has no attribute 'inverse'",
     "output_type": "error",
     "traceback": [
      "\u001b[1;31m---------------------------------------------------------------------------\u001b[0m",
      "\u001b[1;31mAttributeError\u001b[0m                            Traceback (most recent call last)",
      "\u001b[1;32m<ipython-input-22-f2d16ab0290b>\u001b[0m in \u001b[0;36m<module>\u001b[1;34m\u001b[0m\n\u001b[0;32m      5\u001b[0m \u001b[1;31m#print(np.linalg.inv(mat))\u001b[0m\u001b[1;33m\u001b[0m\u001b[1;33m\u001b[0m\u001b[1;33m\u001b[0m\u001b[0m\n\u001b[0;32m      6\u001b[0m \u001b[0mnp\u001b[0m\u001b[1;33m.\u001b[0m\u001b[0mmax\u001b[0m\u001b[1;33m(\u001b[0m\u001b[0mmat\u001b[0m\u001b[1;33m)\u001b[0m\u001b[1;33m\u001b[0m\u001b[1;33m\u001b[0m\u001b[0m\n\u001b[1;32m----> 7\u001b[1;33m \u001b[0mnp\u001b[0m\u001b[1;33m.\u001b[0m\u001b[0minverse\u001b[0m\u001b[1;33m(\u001b[0m\u001b[0mmat\u001b[0m\u001b[1;33m)\u001b[0m\u001b[1;33m\u001b[0m\u001b[1;33m\u001b[0m\u001b[0m\n\u001b[0m",
      "\u001b[1;32m~\\anaconda3\\lib\\site-packages\\numpy\\__init__.py\u001b[0m in \u001b[0;36m__getattr__\u001b[1;34m(attr)\u001b[0m\n\u001b[0;32m    212\u001b[0m                 \u001b[1;32mreturn\u001b[0m \u001b[0mTester\u001b[0m\u001b[1;33m\u001b[0m\u001b[1;33m\u001b[0m\u001b[0m\n\u001b[0;32m    213\u001b[0m             \u001b[1;32melse\u001b[0m\u001b[1;33m:\u001b[0m\u001b[1;33m\u001b[0m\u001b[1;33m\u001b[0m\u001b[0m\n\u001b[1;32m--> 214\u001b[1;33m                 raise AttributeError(\"module {!r} has no attribute \"\n\u001b[0m\u001b[0;32m    215\u001b[0m                                      \"{!r}\".format(__name__, attr))\n\u001b[0;32m    216\u001b[0m \u001b[1;33m\u001b[0m\u001b[0m\n",
      "\u001b[1;31mAttributeError\u001b[0m: module 'numpy' has no attribute 'inverse'"
     ]
    }
   ],
   "source": [
    "#mat= np.random.randint(9, size=(3,3))\n",
    "mat=np.arange(9).reshape(3,3) #matrix with 0 determinant\n",
    "print(np.linalg.det(mat))\n",
    "print(mat)\n",
    "#print(np.linalg.inv(mat))\n",
    "np.max(mat)\n"
   ]
  },
  {
   "cell_type": "code",
   "execution_count": 23,
   "metadata": {},
   "outputs": [
    {
     "name": "stdout",
     "output_type": "stream",
     "text": [
      "2*x**3 + 5*x + 15\n"
     ]
    }
   ],
   "source": [
    "x= sympy.Symbol('x')\n",
    "fx= 2*x**3+5*x+ 15\n",
    "print(np.min(fx).doit())"
   ]
  },
  {
   "cell_type": "code",
   "execution_count": null,
   "metadata": {},
   "outputs": [],
   "source": [
    "help(np.exp)"
   ]
  },
  {
   "cell_type": "code",
   "execution_count": 9,
   "metadata": {},
   "outputs": [
    {
     "name": "stdout",
     "output_type": "stream",
     "text": [
      "[[0 1 2]\n",
      " [3 4 5]\n",
      " [6 7 8]]\n",
      "[[6 9 4]\n",
      " [6 4 8]\n",
      " [6 2 3]]\n",
      "[[ 0  9  8]\n",
      " [18 16 40]\n",
      " [36 14 24]]\n",
      "[[ 18   8  14]\n",
      " [ 72  53  59]\n",
      " [126  98 104]]\n",
      "[[ 18   8  14]\n",
      " [ 72  53  59]\n",
      " [126  98 104]]\n",
      "[[ 18   8  14]\n",
      " [ 72  53  59]\n",
      " [126  98 104]]\n"
     ]
    }
   ],
   "source": [
    "ab= np.arange(9).reshape(3,3)\n",
    "ba= np.random.randint(10, size=(3,3))\n",
    "print(ab)\n",
    "print(ba)\n",
    "print(ab*ba)\n",
    "print(ab@ba)\n",
    "print(np.dot(ab, ba))\n",
    "print(np.matmul(ab, ba))"
   ]
  }
 ],
 "metadata": {
  "kernelspec": {
   "display_name": "Python 3",
   "language": "python",
   "name": "python3"
  },
  "language_info": {
   "codemirror_mode": {
    "name": "ipython",
    "version": 3
   },
   "file_extension": ".py",
   "mimetype": "text/x-python",
   "name": "python",
   "nbconvert_exporter": "python",
   "pygments_lexer": "ipython3",
   "version": "3.8.5"
  }
 },
 "nbformat": 4,
 "nbformat_minor": 4
}
