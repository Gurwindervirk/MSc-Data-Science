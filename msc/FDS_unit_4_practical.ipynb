{
 "cells": [
  {
   "cell_type": "code",
   "execution_count": 21,
   "metadata": {},
   "outputs": [],
   "source": [
    "import numpy as np\n",
    "import matplotlib.pyplot as plt\n",
    "from sympy import Symbol, Derivative\n",
    "import sympy"
   ]
  },
  {
   "cell_type": "code",
   "execution_count": 22,
   "metadata": {},
   "outputs": [
    {
     "data": {
      "text/latex": [
       "$\\displaystyle m^{2} + 10 m$"
      ],
      "text/plain": [
       "m**2 + 10*m"
      ]
     },
     "execution_count": 22,
     "metadata": {},
     "output_type": "execute_result"
    }
   ],
   "source": [
    "m= Symbol('m')\n",
    "n=Symbol('n')\n",
    "fx= m**2*n+10*m*n\n",
    "df =Derivative(fx,m) # derivating with respect to m\n",
    "df.doit()\n",
    "df2= Derivative(fx,n) # derivating with respect to n\n",
    "df2.doit()"
   ]
  },
  {
   "cell_type": "code",
   "execution_count": 23,
   "metadata": {},
   "outputs": [
    {
     "data": {
      "text/latex": [
       "$\\displaystyle 2 n$"
      ],
      "text/plain": [
       "2*n"
      ]
     },
     "execution_count": 23,
     "metadata": {},
     "output_type": "execute_result"
    }
   ],
   "source": [
    "#performing a second order derviative using derivative function\n",
    "df_2nd= Derivative(fx,m,2)\n",
    "df_2nd.doit()"
   ]
  },
  {
   "cell_type": "code",
   "execution_count": 24,
   "metadata": {},
   "outputs": [],
   "source": [
    "x= Symbol('x')\n",
    "fx_=x**5-25*x**3+50*x"
   ]
  },
  {
   "cell_type": "code",
   "execution_count": 25,
   "metadata": {},
   "outputs": [],
   "source": [
    "from sympy import solve\n",
    "dy = Derivative(fx_, x).doit()\n",
    "\n"
   ]
  },
  {
   "cell_type": "code",
   "execution_count": 26,
   "metadata": {},
   "outputs": [
    {
     "data": {
      "text/plain": [
       "[-sqrt(15/2 - sqrt(185)/2),\n",
       " sqrt(15/2 - sqrt(185)/2),\n",
       " -sqrt(sqrt(185)/2 + 15/2),\n",
       " sqrt(sqrt(185)/2 + 15/2)]"
      ]
     },
     "execution_count": 26,
     "metadata": {},
     "output_type": "execute_result"
    }
   ],
   "source": [
    "dy=5*x**4-75*x**2+50\n",
    "x_critical_points= solve(dy)\n",
    "x_critical_points"
   ]
  },
  {
   "cell_type": "code",
   "execution_count": 27,
   "metadata": {},
   "outputs": [
    {
     "data": {
      "text/latex": [
       "$\\displaystyle 10 x \\left(2 x^{2} - 15\\right)$"
      ],
      "text/plain": [
       "10*x*(2*x**2 - 15)"
      ]
     },
     "execution_count": 27,
     "metadata": {},
     "output_type": "execute_result"
    }
   ],
   "source": [
    "dy2= Derivative(fx_,x,2).doit()\n",
    "dy2"
   ]
  },
  {
   "cell_type": "code",
   "execution_count": null,
   "metadata": {},
   "outputs": [],
   "source": [
    "\n"
   ]
  },
  {
   "cell_type": "code",
   "execution_count": 28,
   "metadata": {},
   "outputs": [
    {
     "name": "stdout",
     "output_type": "stream",
     "text": [
      "-sqrt(15/2 - sqrt(185)/2)  is local minimum at: 113.738286404346\n",
      "sqrt(15/2 - sqrt(185)/2) is local maximum at -113.738286404346\n",
      "-sqrt(sqrt(185)/2 + 15/2) is local maximum at -514.357465393284\n",
      "sqrt(sqrt(185)/2 + 15/2)  is local minimum at: 514.357465393284\n"
     ]
    }
   ],
   "source": [
    "ls=[]\n",
    "for ind, i in enumerate(x_critical_points):\n",
    "    \n",
    "    cr=dy2.subs({x:x_critical_points[ind]}).evalf()\n",
    "    ls.append(cr)\n",
    "for i, m in enumerate(ls):\n",
    "    if m>0:\n",
    "            print(x_critical_points[i],\" is local minimum at:\",m)\n",
    "    elif m<0:\n",
    "            print(x_critical_points[i],\"is local maximum at\",m)\n",
    "    else:\n",
    "            print(x_critical_points[i],\"is saddle point at\", m)"
   ]
  },
  {
   "cell_type": "code",
   "execution_count": null,
   "metadata": {},
   "outputs": [],
   "source": []
  },
  {
   "cell_type": "code",
   "execution_count": 29,
   "metadata": {},
   "outputs": [
    {
     "data": {
      "text/latex": [
       "$\\displaystyle 113.738286404346$"
      ],
      "text/plain": [
       "113.738286404346"
      ]
     },
     "execution_count": 29,
     "metadata": {},
     "output_type": "execute_result"
    }
   ],
   "source": [
    "dy2.subs({x:x_critical_points[0]}).evalf()"
   ]
  },
  {
   "cell_type": "code",
   "execution_count": 30,
   "metadata": {},
   "outputs": [
    {
     "data": {
      "text/latex": [
       "$\\displaystyle -113.738286404346$"
      ],
      "text/plain": [
       "-113.738286404346"
      ]
     },
     "execution_count": 30,
     "metadata": {},
     "output_type": "execute_result"
    }
   ],
   "source": [
    "dy2.subs({x:x_critical_points[1]}).evalf()"
   ]
  },
  {
   "cell_type": "code",
   "execution_count": 31,
   "metadata": {},
   "outputs": [
    {
     "data": {
      "text/latex": [
       "$\\displaystyle -514.357465393284$"
      ],
      "text/plain": [
       "-514.357465393284"
      ]
     },
     "execution_count": 31,
     "metadata": {},
     "output_type": "execute_result"
    }
   ],
   "source": [
    "dy2.subs({x:x_critical_points[2]}).evalf()"
   ]
  },
  {
   "cell_type": "code",
   "execution_count": 32,
   "metadata": {},
   "outputs": [
    {
     "data": {
      "text/latex": [
       "$\\displaystyle 514.357465393284$"
      ],
      "text/plain": [
       "514.357465393284"
      ]
     },
     "execution_count": 32,
     "metadata": {},
     "output_type": "execute_result"
    }
   ],
   "source": [
    "dy2.subs({x:x_critical_points[3]}).evalf()"
   ]
  },
  {
   "cell_type": "code",
   "execution_count": 33,
   "metadata": {},
   "outputs": [
    {
     "data": {
      "text/latex": [
       "$\\displaystyle 2 x e^{\\sin{\\left(x \\right)}} \\cos{\\left(x \\right)} + 2 e^{\\sin{\\left(x \\right)}}$"
      ],
      "text/plain": [
       "2*x*exp(sin(x))*cos(x) + 2*exp(sin(x))"
      ]
     },
     "execution_count": 33,
     "metadata": {},
     "output_type": "execute_result"
    }
   ],
   "source": [
    "sympy.diff((2*x)*sympy.exp(sympy.sin(x)))"
   ]
  },
  {
   "cell_type": "code",
   "execution_count": 34,
   "metadata": {},
   "outputs": [
    {
     "ename": "NameError",
     "evalue": "name 'sym' is not defined",
     "output_type": "error",
     "traceback": [
      "\u001b[1;31m---------------------------------------------------------------------------\u001b[0m",
      "\u001b[1;31mNameError\u001b[0m                                 Traceback (most recent call last)",
      "\u001b[1;32m<ipython-input-34-cbc7be92562f>\u001b[0m in \u001b[0;36m<module>\u001b[1;34m\u001b[0m\n\u001b[1;32m----> 1\u001b[1;33m \u001b[0msym\u001b[0m\u001b[1;33m\u001b[0m\u001b[1;33m\u001b[0m\u001b[0m\n\u001b[0m",
      "\u001b[1;31mNameError\u001b[0m: name 'sym' is not defined"
     ]
    }
   ],
   "source": [
    "sympy.diff((6/x**(1/3))+2*x* )"
   ]
  },
  {
   "cell_type": "code",
   "execution_count": null,
   "metadata": {},
   "outputs": [],
   "source": [
    "fx2= (x**2)*sympy.exp(sympy.sin(x))\n",
    "import master_code\n",
    "\n",
    "d= master_code.df(fx2,x)\n",
    "dfg= master_code.min_max(fx_,x)"
   ]
  },
  {
   "cell_type": "code",
   "execution_count": null,
   "metadata": {},
   "outputs": [],
   "source": [
    "from sympy import Integral\n",
    "m = Symbol('m')\n",
    "n= Symbol('n')\n",
    "\n",
    "Integral(m*n,(m, 2,6)).doit()"
   ]
  },
  {
   "cell_type": "code",
   "execution_count": null,
   "metadata": {},
   "outputs": [],
   "source": [
    "Integral(m,(m, 2,6)).doit()"
   ]
  },
  {
   "cell_type": "markdown",
   "metadata": {},
   "source": [
    "### Gradient ascent example"
   ]
  },
  {
   "cell_type": "code",
   "execution_count": null,
   "metadata": {},
   "outputs": [],
   "source": [
    "\"\"\"from sympy import Derivative, Symbol, sympify, SympifyError\n",
    "\n",
    "def grad_ascent(x0, f1x, x):\n",
    "    threshold = 1e-6\n",
    "    epsilon = 1e-4\n",
    "    x_old = x0\n",
    "    x_new = x_old + epsilon*f1x.subs({x:x_old}).evalf()\n",
    "    while abs(x_old - x_new) > threshold:\n",
    "        x_old = x_new\n",
    "        x_new = x_old + epsilon *f1x.subs({x:x_old}).evalf()\n",
    "        \n",
    "    return x_new    \n",
    "\n",
    "if __name__ == '__main__':\n",
    "    \n",
    "    f = input('Enter a function in one variable:')\n",
    "    var = input('Enter the variable to differentiate with respect to: ')\n",
    "    var0 = float(input('Enter the initial value of the variable: '))\n",
    "    try:\n",
    "        f = sympify(f)\n",
    "    except SympifyError:\n",
    "        print('Invalid function entered')\n",
    "    else:\n",
    "        var = Symbol(var)\n",
    "        d = Derivative(f, var).doit()\n",
    "        var_max = grad_ascent(var0, d, var)\n",
    "        print('{0}: {1}'.format(var.name, var_max))\n",
    "        print('Maximum value: {0}'.format(f.subs({var:var_max})))\"\"\""
   ]
  },
  {
   "cell_type": "code",
   "execution_count": null,
   "metadata": {},
   "outputs": [],
   "source": [
    "from sklearn.datasets import load_boston\n",
    "dt= load_boston()\n",
    "dt.DESCR"
   ]
  },
  {
   "cell_type": "code",
   "execution_count": null,
   "metadata": {},
   "outputs": [],
   "source": [
    "from sklearn.datasets import load_iris\n",
    "dt1= load_iris()"
   ]
  },
  {
   "cell_type": "code",
   "execution_count": null,
   "metadata": {},
   "outputs": [],
   "source": [
    "import pandas as pd\n",
    "df= pd.DataFrame(data= np.c_[dt1['data'], dt1['target']], columns= dt1['feature_names']+dt1['target'])"
   ]
  }
 ],
 "metadata": {
  "kernelspec": {
   "display_name": "Python 3",
   "language": "python",
   "name": "python3"
  },
  "language_info": {
   "codemirror_mode": {
    "name": "ipython",
    "version": 3
   },
   "file_extension": ".py",
   "mimetype": "text/x-python",
   "name": "python",
   "nbconvert_exporter": "python",
   "pygments_lexer": "ipython3",
   "version": "3.8.5"
  }
 },
 "nbformat": 4,
 "nbformat_minor": 4
}
