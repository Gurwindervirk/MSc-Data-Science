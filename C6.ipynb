{
 "cells": [
  {
   "cell_type": "code",
   "execution_count": 2,
   "metadata": {},
   "outputs": [],
   "source": [
    "from tensorflow import keras\n",
    "from tensorflow.keras import layers"
   ]
  },
  {
   "cell_type": "code",
   "execution_count": 27,
   "metadata": {},
   "outputs": [],
   "source": [
    "import numpy as np"
   ]
  },
  {
   "cell_type": "code",
   "execution_count": 3,
   "metadata": {},
   "outputs": [],
   "source": [
    "model= keras.Sequential([layers.Dense(64,activation=\"relu\"),\n",
    "                        layers.Dense(10,activation=\"softmax\")])"
   ]
  },
  {
   "cell_type": "code",
   "execution_count": 4,
   "metadata": {},
   "outputs": [],
   "source": [
    "model=keras.Sequential(name=\"my_first_model\")\n",
    "model.add(layers.Dense(64, activation=\"relu\", name=\"first_layers\"))\n",
    "model.add(layers.Dense(10,activation=\"softmax\", name=\"Second_layer\"))"
   ]
  },
  {
   "cell_type": "code",
   "execution_count": 5,
   "metadata": {},
   "outputs": [],
   "source": [
    "model.build(input_shape=(None,3))"
   ]
  },
  {
   "cell_type": "code",
   "execution_count": 6,
   "metadata": {},
   "outputs": [
    {
     "data": {
      "text/plain": [
       "[<tf.Variable 'first_layers/kernel:0' shape=(3, 64) dtype=float32, numpy=\n",
       " array([[ 0.16852385, -0.2585755 , -0.05796601,  0.03671917,  0.15897119,\n",
       "         -0.0938527 ,  0.13409886, -0.1592252 , -0.27644062, -0.21764725,\n",
       "         -0.01274735, -0.1364775 ,  0.22715873, -0.12176059,  0.0414876 ,\n",
       "         -0.11738485, -0.22416008, -0.22243425, -0.02120996, -0.03793934,\n",
       "         -0.10083868,  0.01384118, -0.19562045,  0.00371814, -0.11733264,\n",
       "          0.01510254,  0.02429795,  0.28217483, -0.14026955,  0.06784341,\n",
       "         -0.24453104,  0.2073372 , -0.020026  ,  0.11984006, -0.17783225,\n",
       "         -0.09937833,  0.2187851 , -0.21825457,  0.0108217 ,  0.21085119,\n",
       "         -0.04341027, -0.14672706, -0.07457298, -0.04525888, -0.03485963,\n",
       "         -0.15593159, -0.27187753,  0.2651475 , -0.26117176,  0.2170667 ,\n",
       "         -0.2581352 , -0.1852591 ,  0.12958804, -0.11226667, -0.1496351 ,\n",
       "          0.01976579,  0.26586813, -0.21238703,  0.02791589,  0.09639031,\n",
       "         -0.04459101, -0.10377926, -0.27968785,  0.1659058 ],\n",
       "        [-0.03486586, -0.08851747,  0.11867717,  0.16200027, -0.13421279,\n",
       "          0.10116246,  0.09270006, -0.15627141,  0.19976589, -0.06307556,\n",
       "         -0.23008668, -0.16572994, -0.02802113,  0.0252727 , -0.21513148,\n",
       "         -0.10328674,  0.25401723, -0.10860135,  0.02383253, -0.27537745,\n",
       "         -0.11625707,  0.14356017,  0.05349001, -0.20548074,  0.14470142,\n",
       "          0.21601826,  0.10794318,  0.24522632, -0.14521614, -0.01016694,\n",
       "          0.01185915, -0.08538811,  0.02064753,  0.19979441,  0.17037839,\n",
       "         -0.1360776 ,  0.24565119,  0.09571278, -0.00648642, -0.10988489,\n",
       "          0.12870327,  0.1341249 ,  0.24797541,  0.28074533,  0.23281646,\n",
       "         -0.15112063,  0.05704349, -0.10879484,  0.03866145, -0.10409525,\n",
       "          0.03238389, -0.01848048, -0.24311659,  0.13459992, -0.26370522,\n",
       "          0.02226675,  0.27406394, -0.07500991, -0.22715652, -0.0029864 ,\n",
       "          0.24366432, -0.11715077,  0.18848777, -0.24980825],\n",
       "        [-0.11010642,  0.07999939,  0.26352537,  0.2086907 ,  0.2567292 ,\n",
       "          0.20678395,  0.15015224, -0.14652665, -0.02260813, -0.01126161,\n",
       "          0.25298744,  0.11754054,  0.25326335, -0.18058991, -0.03983471,\n",
       "         -0.24479817,  0.19973755, -0.27624026, -0.24283111, -0.08531925,\n",
       "         -0.26031274, -0.26414332,  0.12062895,  0.02699858,  0.25589043,\n",
       "         -0.10704376,  0.18827501,  0.00857973,  0.15311167, -0.18626039,\n",
       "         -0.23721914, -0.06381521, -0.1342837 ,  0.08712798,  0.21835417,\n",
       "          0.27793956,  0.29360378,  0.14940828,  0.05292252, -0.19691591,\n",
       "          0.03601876, -0.21532875, -0.21659417, -0.21600527,  0.20756352,\n",
       "          0.17417735, -0.2657674 , -0.0083555 , -0.03426597,  0.02206784,\n",
       "         -0.29434255, -0.10336031,  0.25394648, -0.22394852,  0.07119831,\n",
       "          0.0766362 , -0.18657231,  0.25877112,  0.1750032 ,  0.19982526,\n",
       "          0.27361304, -0.03161085,  0.27714497, -0.1675854 ]],\n",
       "       dtype=float32)>,\n",
       " <tf.Variable 'first_layers/bias:0' shape=(64,) dtype=float32, numpy=\n",
       " array([0., 0., 0., 0., 0., 0., 0., 0., 0., 0., 0., 0., 0., 0., 0., 0., 0.,\n",
       "        0., 0., 0., 0., 0., 0., 0., 0., 0., 0., 0., 0., 0., 0., 0., 0., 0.,\n",
       "        0., 0., 0., 0., 0., 0., 0., 0., 0., 0., 0., 0., 0., 0., 0., 0., 0.,\n",
       "        0., 0., 0., 0., 0., 0., 0., 0., 0., 0., 0., 0., 0.], dtype=float32)>,\n",
       " <tf.Variable 'Second_layer/kernel:0' shape=(64, 10) dtype=float32, numpy=\n",
       " array([[-0.20699675, -0.28301895, -0.23166636,  0.01040488,  0.25592515,\n",
       "         -0.04408275, -0.08430302,  0.03836995,  0.14123717,  0.18138826],\n",
       "        [ 0.21290046,  0.26055285, -0.19281936,  0.13259563, -0.14400662,\n",
       "          0.10985205, -0.0178352 , -0.27858007, -0.1876485 , -0.09638435],\n",
       "        [ 0.11391622,  0.0334152 ,  0.20980689,  0.13830754, -0.15184769,\n",
       "         -0.1369066 , -0.213319  , -0.24654846, -0.16924962, -0.01115784],\n",
       "        [ 0.01596764,  0.15577886,  0.01320484,  0.05133209, -0.00576752,\n",
       "          0.12024397, -0.25594267,  0.18413389, -0.13465716, -0.13760667],\n",
       "        [-0.04291607,  0.01184523,  0.01288038,  0.13829303,  0.23558792,\n",
       "          0.07285902, -0.04006521,  0.2281808 ,  0.19458243,  0.10999048],\n",
       "        [-0.16061121,  0.2238774 ,  0.01880956,  0.11363393,  0.21683428,\n",
       "          0.24237159, -0.17119674,  0.02451855, -0.08775103, -0.09737425],\n",
       "        [ 0.00346485, -0.1737504 , -0.16183579,  0.06064028, -0.28290114,\n",
       "          0.09346846, -0.0643099 ,  0.23011348,  0.06378001,  0.03654957],\n",
       "        [ 0.00796542, -0.0020895 ,  0.24999729, -0.07445897, -0.19775963,\n",
       "          0.01876426, -0.0862141 , -0.09615685, -0.25116456, -0.05777943],\n",
       "        [-0.28451976, -0.05226168, -0.2136541 , -0.24200341, -0.15448076,\n",
       "          0.27984276,  0.03269973,  0.17988613,  0.23713544, -0.07052507],\n",
       "        [-0.09753168, -0.09616099,  0.14830923, -0.26401263,  0.08922097,\n",
       "         -0.13799492,  0.25808504,  0.23070613, -0.17557274,  0.22674248],\n",
       "        [ 0.12788767, -0.26980507, -0.1373106 , -0.2041721 , -0.19926026,\n",
       "         -0.22359923,  0.00826815,  0.17586493, -0.13419402,  0.12485498],\n",
       "        [ 0.10717723,  0.25293872,  0.11259213, -0.08123179, -0.17827676,\n",
       "         -0.1620079 , -0.01466262, -0.15793265, -0.0845965 ,  0.09077623],\n",
       "        [ 0.16638523, -0.19400021,  0.20174512,  0.02522418,  0.02021009,\n",
       "         -0.28111193,  0.10715196, -0.21495506, -0.24789742,  0.12215903],\n",
       "        [-0.1502007 , -0.2060379 , -0.05467026, -0.10860798, -0.23860544,\n",
       "         -0.03489132,  0.18001947,  0.14405149,  0.24191317, -0.21216448],\n",
       "        [ 0.26701036, -0.06727175, -0.12326367,  0.03457719,  0.15900406,\n",
       "         -0.24256738,  0.18479738,  0.19438732,  0.00904527, -0.23408626],\n",
       "        [-0.14521234,  0.10336661,  0.17387795,  0.26159063,  0.1261028 ,\n",
       "          0.00066462,  0.01564097,  0.07721439,  0.12656009, -0.22819063],\n",
       "        [ 0.19463307, -0.01504707, -0.04700117,  0.03859583,  0.17747873,\n",
       "          0.13612124, -0.17348705,  0.23244527,  0.03241098, -0.20762792],\n",
       "        [-0.27315608,  0.07792476, -0.08288984, -0.15937468,  0.23298952,\n",
       "          0.17105892, -0.15041013,  0.2416372 ,  0.15685457,  0.20224649],\n",
       "        [ 0.1944732 ,  0.22037318,  0.06068665,  0.03071031,  0.2575067 ,\n",
       "          0.04185057,  0.2028226 , -0.2315595 ,  0.18916482, -0.20081973],\n",
       "        [ 0.09230876, -0.21899411, -0.08256797,  0.1659644 , -0.2505512 ,\n",
       "          0.24706718, -0.07826123,  0.2440531 ,  0.20408243, -0.03331357],\n",
       "        [-0.25976986, -0.22560678, -0.17628115, -0.09744661, -0.04884855,\n",
       "         -0.24334973, -0.00765607,  0.1650669 ,  0.06707466, -0.12319395],\n",
       "        [-0.21301737,  0.12560645,  0.19440278,  0.00788817, -0.0358036 ,\n",
       "         -0.18587531,  0.08983171,  0.17484394, -0.11059225,  0.11790302],\n",
       "        [ 0.19280672, -0.09538095,  0.25733086,  0.18011853, -0.081581  ,\n",
       "          0.21726099, -0.04981694, -0.19011337, -0.0857003 ,  0.26975152],\n",
       "        [ 0.05404195, -0.18377537,  0.11532182,  0.07267681,  0.06108916,\n",
       "          0.11970106, -0.00995117,  0.26731965,  0.15436828,  0.12238517],\n",
       "        [ 0.02813682,  0.14612001,  0.22037151, -0.04997838, -0.08339548,\n",
       "         -0.03021389,  0.10419336, -0.20946738, -0.13864149,  0.15048563],\n",
       "        [ 0.14730644,  0.05314994,  0.10198587,  0.25960717, -0.14292136,\n",
       "         -0.08446696,  0.0885604 , -0.23385815, -0.05398512, -0.21659979],\n",
       "        [ 0.16987312, -0.07189304, -0.26977092, -0.0185287 , -0.01882178,\n",
       "          0.00596154, -0.05048496, -0.02741531, -0.17682998, -0.09388997],\n",
       "        [-0.06172195,  0.1839607 ,  0.24154523, -0.19322574,  0.03196442,\n",
       "          0.19089407, -0.17040801,  0.14286685, -0.21610054, -0.03567047],\n",
       "        [-0.18355201, -0.18590185,  0.13388208,  0.24200466,  0.280728  ,\n",
       "         -0.12337629, -0.19487666, -0.22079921,  0.11734089, -0.20841713],\n",
       "        [ 0.09869218, -0.0953988 , -0.26646405,  0.26392165,  0.04719594,\n",
       "         -0.1902329 , -0.20585595, -0.06510432,  0.27896187,  0.19443884],\n",
       "        [-0.1656014 ,  0.133885  ,  0.16487825,  0.20467639,  0.17279777,\n",
       "          0.06185657,  0.06623366, -0.0567112 , -0.06285855,  0.26839802],\n",
       "        [ 0.07512388,  0.08004427,  0.2782369 ,  0.2048178 ,  0.27167174,\n",
       "          0.042245  , -0.2714579 , -0.10922727,  0.12588522,  0.10896039],\n",
       "        [ 0.2625098 ,  0.28448835,  0.26455805,  0.22431561, -0.0367229 ,\n",
       "         -0.22076955, -0.00274238, -0.1909285 , -0.16962919, -0.22639185],\n",
       "        [-0.15619469,  0.17349458,  0.20133719, -0.15249045, -0.19296728,\n",
       "         -0.13509415, -0.18082695, -0.09907547, -0.08171332,  0.09564057],\n",
       "        [ 0.03126264,  0.10616663, -0.00096592,  0.20447129,  0.01282459,\n",
       "          0.01923364,  0.20584738, -0.20171282, -0.13635561, -0.01400748],\n",
       "        [-0.01673716,  0.10684082, -0.24328639, -0.24963605,  0.04681921,\n",
       "          0.20698005,  0.01370654,  0.06068537,  0.14605275,  0.01559922],\n",
       "        [ 0.27706328, -0.2514852 , -0.24590772,  0.25387427,  0.1271967 ,\n",
       "         -0.00488421,  0.22029772, -0.20505872,  0.20460808, -0.0901725 ],\n",
       "        [ 0.02689424, -0.18211392, -0.24143818, -0.08622408,  0.08398795,\n",
       "          0.21523842, -0.12778556, -0.18335724,  0.21100947, -0.18352568],\n",
       "        [ 0.05731323,  0.26794907,  0.10379899, -0.05531751,  0.2067106 ,\n",
       "          0.11840561, -0.17755876, -0.19307053,  0.04968232, -0.0156244 ],\n",
       "        [-0.18042904,  0.21409822, -0.14058577, -0.01359105, -0.21347453,\n",
       "          0.14082229,  0.26333085,  0.05701935,  0.26614526, -0.04339401],\n",
       "        [-0.09635665,  0.00633398, -0.26956517, -0.06859647, -0.05828813,\n",
       "         -0.05526876,  0.26636901,  0.16824052,  0.102678  , -0.13402626],\n",
       "        [ 0.12763226,  0.24542895,  0.23466119, -0.27835658,  0.22194907,\n",
       "          0.12406069, -0.06601058,  0.14341456, -0.07312264, -0.10798809],\n",
       "        [-0.24031475, -0.04603632, -0.09848382, -0.2375518 , -0.00463343,\n",
       "         -0.06895886, -0.14870279, -0.12540463,  0.14497975, -0.09463967],\n",
       "        [-0.16779035,  0.2153165 ,  0.27972183, -0.00555992,  0.13780972,\n",
       "         -0.27267054, -0.09006299, -0.00084963, -0.02395365, -0.0010055 ],\n",
       "        [ 0.2712883 ,  0.25515237,  0.2119953 , -0.25760397,  0.0544346 ,\n",
       "          0.15584928, -0.00995192, -0.06261036,  0.0185141 ,  0.24206212],\n",
       "        [ 0.07166627, -0.07272977,  0.19835454, -0.2044262 , -0.08707948,\n",
       "         -0.28254107, -0.06061137,  0.10513335, -0.25473675, -0.09813243],\n",
       "        [-0.09463152,  0.14448756, -0.02905732, -0.2809874 ,  0.24941137,\n",
       "          0.02361521,  0.10749826, -0.03009406, -0.12891354, -0.14296317],\n",
       "        [-0.02822217, -0.1187557 ,  0.25916412, -0.2346792 , -0.10397205,\n",
       "         -0.25781417,  0.06602156, -0.03481704,  0.06140587,  0.09769854],\n",
       "        [-0.23182806, -0.23115373, -0.21655926,  0.20612079,  0.02707469,\n",
       "          0.07952961,  0.09459534,  0.06385693,  0.21967402,  0.13000152],\n",
       "        [-0.14105149,  0.11839676,  0.19840187, -0.16131046,  0.06771228,\n",
       "         -0.21341044, -0.2477771 ,  0.09610561,  0.00130606, -0.08099051],\n",
       "        [-0.17854118, -0.07101618,  0.27764252, -0.11140597,  0.11653817,\n",
       "          0.2736269 ,  0.20362416, -0.25942537, -0.18086918, -0.26064977],\n",
       "        [-0.23019132,  0.166127  ,  0.07257199, -0.20905162, -0.18461502,\n",
       "         -0.24030374, -0.18270503, -0.20687199, -0.24107292, -0.16121548],\n",
       "        [ 0.20373082, -0.15689184, -0.28018293,  0.03194186,  0.21028695,\n",
       "          0.11741835, -0.28392085, -0.21604073, -0.22146969, -0.08709638],\n",
       "        [ 0.07064691,  0.2822443 , -0.10363436, -0.02951729, -0.00295249,\n",
       "         -0.0940969 , -0.12304372, -0.09205805,  0.09590524,  0.07441965],\n",
       "        [ 0.00485727, -0.20978904,  0.22056803,  0.1999934 ,  0.24373594,\n",
       "         -0.2456154 ,  0.0184502 , -0.09085371, -0.0371142 ,  0.03471962],\n",
       "        [ 0.25524268,  0.01142058,  0.1187335 ,  0.24775371,  0.2008405 ,\n",
       "         -0.14444602,  0.27850112, -0.21349551,  0.14780277, -0.00861275],\n",
       "        [ 0.02472636,  0.07587403,  0.16690624,  0.04699823, -0.24351327,\n",
       "         -0.16597302,  0.14007607, -0.09324081,  0.12238857, -0.2220067 ],\n",
       "        [ 0.22065476,  0.18467593,  0.14949772,  0.10448855,  0.02561897,\n",
       "         -0.02687946,  0.06941   , -0.0457831 , -0.14271525,  0.09008729],\n",
       "        [ 0.07991603,  0.2780088 , -0.13431004, -0.2427654 ,  0.24734113,\n",
       "          0.11026421,  0.15958786,  0.26341024, -0.1893219 , -0.13798936],\n",
       "        [ 0.01790711,  0.1902689 , -0.08908851, -0.27858362, -0.21446143,\n",
       "         -0.2739994 ,  0.17479786,  0.0390802 , -0.00813079, -0.20014837],\n",
       "        [ 0.08678001, -0.08996721, -0.21681201, -0.28213108,  0.06906343,\n",
       "          0.19136402, -0.20017269, -0.00855795,  0.08953524, -0.21868916],\n",
       "        [ 0.13589483,  0.1331934 ,  0.05425152, -0.2476019 ,  0.19792217,\n",
       "          0.00390682,  0.20257026,  0.1039108 ,  0.25069812, -0.14253874],\n",
       "        [ 0.08061072,  0.21128252,  0.15712395,  0.20893228, -0.03385878,\n",
       "          0.28205618, -0.21895128,  0.26989302,  0.05279651,  0.0125933 ],\n",
       "        [ 0.26335332,  0.16079247,  0.22861776, -0.06230587, -0.13071266,\n",
       "          0.20728666,  0.04335001, -0.17797805, -0.05948386, -0.06417736]],\n",
       "       dtype=float32)>,\n",
       " <tf.Variable 'Second_layer/bias:0' shape=(10,) dtype=float32, numpy=array([0., 0., 0., 0., 0., 0., 0., 0., 0., 0.], dtype=float32)>]"
      ]
     },
     "execution_count": 6,
     "metadata": {},
     "output_type": "execute_result"
    }
   ],
   "source": [
    "model.weights"
   ]
  },
  {
   "cell_type": "code",
   "execution_count": 7,
   "metadata": {},
   "outputs": [
    {
     "name": "stdout",
     "output_type": "stream",
     "text": [
      "Model: \"my_first_model\"\n",
      "_________________________________________________________________\n",
      "Layer (type)                 Output Shape              Param #   \n",
      "=================================================================\n",
      "first_layers (Dense)         (None, 64)                256       \n",
      "_________________________________________________________________\n",
      "Second_layer (Dense)         (None, 10)                650       \n",
      "=================================================================\n",
      "Total params: 906\n",
      "Trainable params: 906\n",
      "Non-trainable params: 0\n",
      "_________________________________________________________________\n"
     ]
    }
   ],
   "source": [
    "model.summary()"
   ]
  },
  {
   "cell_type": "code",
   "execution_count": 8,
   "metadata": {},
   "outputs": [],
   "source": [
    "inputs = keras.Input(shape=(3,), name=\"my_input\")\n",
    "features= layers.Dense(64, activation=\"relu\")(inputs)\n",
    "outputs= layers.Dense(10, activation=\"softmax\")(features)\n",
    "model_1=keras.Model(inputs= inputs, outputs=outputs)"
   ]
  },
  {
   "cell_type": "code",
   "execution_count": 9,
   "metadata": {},
   "outputs": [
    {
     "name": "stdout",
     "output_type": "stream",
     "text": [
      "Model: \"model\"\n",
      "_________________________________________________________________\n",
      "Layer (type)                 Output Shape              Param #   \n",
      "=================================================================\n",
      "my_input (InputLayer)        [(None, 3)]               0         \n",
      "_________________________________________________________________\n",
      "dense_2 (Dense)              (None, 64)                256       \n",
      "_________________________________________________________________\n",
      "dense_3 (Dense)              (None, 10)                650       \n",
      "=================================================================\n",
      "Total params: 906\n",
      "Trainable params: 906\n",
      "Non-trainable params: 0\n",
      "_________________________________________________________________\n"
     ]
    }
   ],
   "source": [
    "model_1.summary()"
   ]
  },
  {
   "cell_type": "code",
   "execution_count": 10,
   "metadata": {},
   "outputs": [],
   "source": [
    "vocabulary_size= 10000\n",
    "num_tags=100\n",
    "num_departments=4\n",
    "title= keras.Input(shape=(vocabulary_size,), name= \"Title\")\n",
    "text_body= keras.Input(shape=(vocabulary_size,),name=\"text_body\")\n",
    "tags= keras.Input(shape=(num_tags,), name=\"Tags\")\n",
    "\n",
    "features= layers.Concatenate()([title,text_body,tags])\n",
    "features=layers.Dense(64, activation=\"relu\")(features)\n",
    "priority=layers.Dense(1,activation=\"sigmoid\",name=\"priority\")(features)\n",
    "departments= layers.Dense(num_departments, activation=\"softmax\", name=\"departments\")(features)\n",
    "\n",
    "Model_2= keras.Model(inputs=[title,text_body,tags],\n",
    "                    outputs=[priority,departments])"
   ]
  },
  {
   "cell_type": "code",
   "execution_count": null,
   "metadata": {},
   "outputs": [],
   "source": []
  },
  {
   "cell_type": "code",
   "execution_count": 11,
   "metadata": {},
   "outputs": [],
   "source": [
    "import numpy as np"
   ]
  },
  {
   "cell_type": "code",
   "execution_count": 12,
   "metadata": {},
   "outputs": [],
   "source": [
    "num_samples=1280\n",
    "title_data= np.random.randint(0,2,size=(num_samples, vocabulary_size))\n",
    "text_body_data=np.random.randint(0,2,size=(num_samples,vocabulary_size))\n",
    "tags_data=np.random.randint(0,2,size=(num_samples,num_tags))\n",
    "priority_data= np.random.random(size=(num_samples,1))\n",
    "department_data=np.random.randint(0,2,size=(num_samples,num_departments))"
   ]
  },
  {
   "cell_type": "code",
   "execution_count": 13,
   "metadata": {},
   "outputs": [
    {
     "name": "stdout",
     "output_type": "stream",
     "text": [
      "40/40 [==============================] - 1s 13ms/step - loss: 49.8991 - priority_loss: 0.2920 - departments_loss: 49.6070 - priority_mean_absolute_error: 0.4588 - departments_accuracy: 0.2954\n"
     ]
    },
    {
     "data": {
      "text/plain": [
       "<tensorflow.python.keras.callbacks.History at 0x1e05ebed550>"
      ]
     },
     "execution_count": 13,
     "metadata": {},
     "output_type": "execute_result"
    }
   ],
   "source": [
    "Model_2.compile(optimizer=\"rmsprop\",\n",
    "             loss={\"priority\":\"mean_squared_error\", \"departments\":\"categorical_crossentropy\"},\n",
    "             metrics={\"priority\":\"mean_absolute_error\", \"departments\":\"accuracy\"})\n",
    "Model_2.fit({\"Title\":title_data,\"text_body\":text_body_data,\"Tags\":tags_data},\n",
    "         {\"priority\":priority_data, \"departments\":department_data},\n",
    "         epochs=1)\n"
   ]
  },
  {
   "cell_type": "code",
   "execution_count": 14,
   "metadata": {},
   "outputs": [
    {
     "name": "stdout",
     "output_type": "stream",
     "text": [
      "40/40 [==============================] - 0s 5ms/step - loss: 41.3714 - priority_loss: 0.3343 - departments_loss: 41.0370 - priority_mean_absolute_error: 0.5004 - departments_accuracy: 0.5586\n"
     ]
    }
   ],
   "source": [
    "Model_2.evaluate({\"Title\": title_data, \"text_body\": text_body_data,\n",
    "                \"Tags\": tags_data},\n",
    "               {\"priority\": priority_data, \"departments\": department_data})\n",
    "priority_preds, department_preds = Model_2.predict(\n",
    "    {\"Title\": title_data, \"text_body\": text_body_data, \"Tags\": tags_data})"
   ]
  },
  {
   "cell_type": "code",
   "execution_count": 15,
   "metadata": {},
   "outputs": [
    {
     "data": {
      "image/png": "[encoded data removed]",
      "text/plain": [
       "<IPython.core.display.Image object>"
      ]
     },
     "execution_count": 15,
     "metadata": {},
     "output_type": "execute_result"
    }
   ],
   "source": [
    "keras.utils.plot_model(Model_2, \"plot_image.png\")"
   ]
  },
  {
   "cell_type": "code",
   "execution_count": 16,
   "metadata": {},
   "outputs": [
    {
     "data": {
      "image/png": "[encoded data removed]",
      "text/plain": [
       "<IPython.core.display.Image object>"
      ]
     },
     "execution_count": 16,
     "metadata": {},
     "output_type": "execute_result"
    }
   ],
   "source": [
    "keras.utils.plot_model(Model_2, \"plot_image_with_shape.png\", show_shapes=True)"
   ]
  },
  {
   "cell_type": "code",
   "execution_count": 17,
   "metadata": {},
   "outputs": [
    {
     "data": {
      "text/plain": [
       "[<tensorflow.python.keras.engine.input_layer.InputLayer at 0x1e05eb376a0>,\n",
       " <tensorflow.python.keras.engine.input_layer.InputLayer at 0x1e05eb37e20>,\n",
       " <tensorflow.python.keras.engine.input_layer.InputLayer at 0x1e05eb37be0>,\n",
       " <tensorflow.python.keras.layers.merge.Concatenate at 0x1e05eb37fa0>,\n",
       " <tensorflow.python.keras.layers.core.Dense at 0x1e05eaecbb0>,\n",
       " <tensorflow.python.keras.layers.core.Dense at 0x1e05ea2aeb0>,\n",
       " <tensorflow.python.keras.layers.core.Dense at 0x1e05eb35be0>]"
      ]
     },
     "execution_count": 17,
     "metadata": {},
     "output_type": "execute_result"
    }
   ],
   "source": [
    "Model_2.layers"
   ]
  },
  {
   "cell_type": "code",
   "execution_count": 18,
   "metadata": {},
   "outputs": [],
   "source": [
    "features= Model_2.layers[4].output\n",
    "difficulty = layers.Dense(3, activation=\"softmax\", name=\"difficulty\")(features)\n",
    "new_model= keras.Model(inputs=[title,text_body,tags ],\n",
    "                      outputs=[priority,departments,difficulty])"
   ]
  },
  {
   "cell_type": "code",
   "execution_count": 19,
   "metadata": {},
   "outputs": [
    {
     "data": {
      "image/png": "[encoded data removed]",
      "text/plain": [
       "<IPython.core.display.Image object>"
      ]
     },
     "execution_count": 19,
     "metadata": {},
     "output_type": "execute_result"
    }
   ],
   "source": [
    "keras.utils.plot_model(new_model, \"new_model.png\", show_shapes=True)"
   ]
  },
  {
   "cell_type": "code",
   "execution_count": 54,
   "metadata": {},
   "outputs": [
    {
     "name": "stdout",
     "output_type": "stream",
     "text": [
      "(60000, 28, 28)\n"
     ]
    }
   ],
   "source": [
    "from tensorflow.keras.datasets import mnist\n",
    "def get_mnist_model():\n",
    "    inputs = keras.Input(shape=(28*28,))\n",
    "    features= layers.Dense(512,activation=\"relu\")(inputs)\n",
    "    features=layers.Dropout(0.5)(features)\n",
    "    outputs=layers.Dense(10, activation=\"softmax\")(features)\n",
    "    model= keras.Model(inputs=inputs, outputs=outputs)\n",
    "    return model\n",
    "model_3= get_mnist_model()\n",
    "(images, labels),(test_images, test_label)= mnist.load_data()\n",
    "print(images.shape)"
   ]
  },
  {
   "cell_type": "code",
   "execution_count": 55,
   "metadata": {},
   "outputs": [
    {
     "data": {
      "image/png": "[encoded data removed]",
      "text/plain": [
       "<IPython.core.display.Image object>"
      ]
     },
     "execution_count": 55,
     "metadata": {},
     "output_type": "execute_result"
    }
   ],
   "source": [
    "keras.utils.plot_model(model_3, \"model.png\", show_shapes=True)"
   ]
  },
  {
   "cell_type": "code",
   "execution_count": 56,
   "metadata": {},
   "outputs": [
    {
     "name": "stdout",
     "output_type": "stream",
     "text": [
      "(50000, 784) (50000,) (10000, 784) (10000,)\n"
     ]
    }
   ],
   "source": [
    "images= images.reshape((60000,28*28)).astype(\"float32\")/255\n",
    "test_images= test_images.reshape((10000,28*28)).astype(\"float32\")/255\n",
    "train_images, val_images= images[10000:], images[:10000]\n",
    "train_labels, val_labels= labels[10000:], labels[:10000]\n",
    "print(train_images.shape, train_labels.shape, val_images.shape, val_labels.shape)"
   ]
  },
  {
   "cell_type": "code",
   "execution_count": 59,
   "metadata": {},
   "outputs": [
    {
     "name": "stdout",
     "output_type": "stream",
     "text": [
      "Epoch 1/3\n",
      "1563/1563 [==============================] - 8s 5ms/step - loss: 0.1275 - accuracy: 0.9667 - val_loss: 0.1136 - val_accuracy: 0.9735\n",
      "Epoch 2/3\n",
      "1563/1563 [==============================] - 7s 5ms/step - loss: 0.1115 - accuracy: 0.9716 - val_loss: 0.1190 - val_accuracy: 0.9732\n",
      "Epoch 3/3\n",
      "1563/1563 [==============================] - 6s 4ms/step - loss: 0.1085 - accuracy: 0.9745 - val_loss: 0.1078 - val_accuracy: 0.9756\n",
      "313/313 [==============================] - 0s 642us/step - loss: 0.1020 - accuracy: 0.9760\n"
     ]
    }
   ],
   "source": [
    "model_3.compile(optimizer=\"rmsprop\",\n",
    "             loss=\"sparse_categorical_crossentropy\",\n",
    "             metrics=[\"accuracy\"])\n",
    "model_3.fit(train_images, train_labels, epochs=3, validation_data=(val_images, val_labels))\n",
    "metrics= model_3.evaluate(test_images, test_labels)\n",
    "predictions= model_3.predict(test_images)"
   ]
  },
  {
   "cell_type": "code",
   "execution_count": 60,
   "metadata": {},
   "outputs": [],
   "source": [
    "callbacks_list=[\n",
    "    keras.callbacks.EarlyStopping(\n",
    "    monitor=\"val_accuracy\",\n",
    "    patience=2.),\n",
    "    keras.callbacks.ModelCheckpoint(\n",
    "    filepath=\"checkpoint_path.keras\",\n",
    "    monitor=\"val_loss\",\n",
    "    save_best_only=True)\n",
    "]"
   ]
  },
  {
   "cell_type": "code",
   "execution_count": 63,
   "metadata": {},
   "outputs": [
    {
     "name": "stdout",
     "output_type": "stream",
     "text": [
      "Epoch 1/10\n",
      "1563/1563 [==============================] - 6s 4ms/step - loss: 0.0956 - accuracy: 0.9791 - val_loss: 0.1181 - val_accuracy: 0.9790\n",
      "Epoch 2/10\n",
      "1563/1563 [==============================] - 6s 4ms/step - loss: 0.0944 - accuracy: 0.9794 - val_loss: 0.1246 - val_accuracy: 0.9788\n",
      "Epoch 3/10\n",
      "1563/1563 [==============================] - 6s 4ms/step - loss: 0.0890 - accuracy: 0.9810 - val_loss: 0.1319 - val_accuracy: 0.9769\n"
     ]
    },
    {
     "data": {
      "text/plain": [
       "<tensorflow.python.keras.callbacks.History at 0x1e001d18220>"
      ]
     },
     "execution_count": 63,
     "metadata": {},
     "output_type": "execute_result"
    }
   ],
   "source": [
    "model_3.fit(train_images,train_labels,epochs=10,\n",
    "            callbacks=callbacks_list,\n",
    "            validation_data=(val_images, val_labels))"
   ]
  },
  {
   "cell_type": "code",
   "execution_count": 64,
   "metadata": {},
   "outputs": [
    {
     "name": "stdout",
     "output_type": "stream",
     "text": [
      "INFO:tensorflow:Assets written to: my_checkpoint_path\\assets\n"
     ]
    }
   ],
   "source": [
    "model.save('my_checkpoint_path')"
   ]
  },
  {
   "cell_type": "code",
   "execution_count": 65,
   "metadata": {},
   "outputs": [],
   "source": [
    "model_3= keras.models.load_model(\"my_checkpoint_path\")"
   ]
  },
  {
   "cell_type": "code",
   "execution_count": 69,
   "metadata": {},
   "outputs": [],
   "source": [
    "from matplotlib import pyplot as plt\n",
    "  \n",
    "class LossHistory(keras.callbacks.Callback):\n",
    "    def on_train_begin(self, logs):\n",
    "        self.per_batch_losses = []\n",
    "  \n",
    "    def on_batch_end(self, batch, logs):\n",
    "        self.per_batch_losses.append(logs.get(\"accuracy\"))\n",
    "  \n",
    "    def on_epoch_end(self, epoch, logs):\n",
    "        plt.clf()\n",
    "        plt.plot(range(len(self.per_batch_losses)), self.per_batch_losses,\n",
    "                 label=\"Training loss for each batch\")\n",
    "        plt.xlabel(f\"Batch (epoch {epoch})\")\n",
    "        plt.ylabel(\"Loss\")\n",
    "        plt.legend()\n",
    "        plt.savefig(f\"plot_at_epoch_{epoch}\")\n",
    "        self.per_batch_losses = []"
   ]
  },
  {
   "cell_type": "code",
   "execution_count": 70,
   "metadata": {},
   "outputs": [
    {
     "name": "stdout",
     "output_type": "stream",
     "text": [
      "Epoch 1/10\n",
      "1563/1563 [==============================] - 6s 4ms/step - loss: 0.4484 - accuracy: 0.8680 - val_loss: 0.1546 - val_accuracy: 0.9537\n",
      "Epoch 2/10\n",
      "1563/1563 [==============================] - 6s 4ms/step - loss: 0.1698 - accuracy: 0.9505 - val_loss: 0.1371 - val_accuracy: 0.9635\n",
      "Epoch 3/10\n",
      "1563/1563 [==============================] - 6s 4ms/step - loss: 0.1361 - accuracy: 0.9626 - val_loss: 0.1178 - val_accuracy: 0.9694\n",
      "Epoch 4/10\n",
      "1563/1563 [==============================] - 6s 4ms/step - loss: 0.1248 - accuracy: 0.9669 - val_loss: 0.1218 - val_accuracy: 0.9711\n",
      "Epoch 5/10\n",
      "1563/1563 [==============================] - 7s 4ms/step - loss: 0.1173 - accuracy: 0.9692 - val_loss: 0.1099 - val_accuracy: 0.9747\n",
      "Epoch 6/10\n",
      "1563/1563 [==============================] - 7s 4ms/step - loss: 0.1108 - accuracy: 0.9727 - val_loss: 0.1077 - val_accuracy: 0.9761\n",
      "Epoch 7/10\n",
      "1563/1563 [==============================] - 7s 5ms/step - loss: 0.1021 - accuracy: 0.9741 - val_loss: 0.1074 - val_accuracy: 0.9784\n",
      "Epoch 8/10\n",
      "1563/1563 [==============================] - 7s 5ms/step - loss: 0.1061 - accuracy: 0.9756 - val_loss: 0.1038 - val_accuracy: 0.9779\n",
      "Epoch 9/10\n",
      "1563/1563 [==============================] - 7s 5ms/step - loss: 0.0925 - accuracy: 0.9772 - val_loss: 0.1165 - val_accuracy: 0.9774\n",
      "Epoch 10/10\n",
      "1563/1563 [==============================] - 7s 4ms/step - loss: 0.0928 - accuracy: 0.9779 - val_loss: 0.1113 - val_accuracy: 0.9808\n"
     ]
    },
    {
     "data": {
      "text/plain": [
       "<tensorflow.python.keras.callbacks.History at 0x1e001c83e50>"
      ]
     },
     "execution_count": 70,
     "metadata": {},
     "output_type": "execute_result"
    },
    {
     "data": {
      "image/png": "[encoded data removed]",
      "text/plain": [
       "<Figure size 432x288 with 1 Axes>"
      ]
     },
     "metadata": {
      "needs_background": "light"
     },
     "output_type": "display_data"
    }
   ],
   "source": [
    "model = get_mnist_model()\n",
    "model.compile(optimizer=\"rmsprop\",\n",
    "              loss=\"sparse_categorical_crossentropy\",\n",
    "              metrics=[\"accuracy\"])\n",
    "model.fit(train_images, train_labels,\n",
    "          epochs=10,\n",
    "          callbacks=[LossHistory()],\n",
    "          validation_data=(val_images, val_labels))"
   ]
  },
  {
   "cell_type": "code",
   "execution_count": 97,
   "metadata": {},
   "outputs": [],
   "source": [
    "import datetime"
   ]
  },
  {
   "cell_type": "code",
   "execution_count": 98,
   "metadata": {},
   "outputs": [
    {
     "name": "stdout",
     "output_type": "stream",
     "text": [
      "Epoch 1/10\n",
      "1563/1563 [==============================] - 6s 4ms/step - loss: 0.4466 - accuracy: 0.8642 - val_loss: 0.1404 - val_accuracy: 0.9604\n",
      "Epoch 2/10\n",
      "1563/1563 [==============================] - 5s 3ms/step - loss: 0.1677 - accuracy: 0.9544 - val_loss: 0.1213 - val_accuracy: 0.9674\n",
      "Epoch 3/10\n",
      "1563/1563 [==============================] - 5s 3ms/step - loss: 0.1350 - accuracy: 0.9631 - val_loss: 0.1090 - val_accuracy: 0.9727\n",
      "Epoch 4/10\n",
      "1563/1563 [==============================] - 6s 4ms/step - loss: 0.1232 - accuracy: 0.9682 - val_loss: 0.1126 - val_accuracy: 0.9740\n",
      "Epoch 5/10\n",
      "1563/1563 [==============================] - 6s 4ms/step - loss: 0.1178 - accuracy: 0.9707 - val_loss: 0.1119 - val_accuracy: 0.9743\n",
      "Epoch 6/10\n",
      "1563/1563 [==============================] - 7s 4ms/step - loss: 0.1097 - accuracy: 0.9734 - val_loss: 0.1167 - val_accuracy: 0.9758\n",
      "Epoch 7/10\n",
      "1563/1563 [==============================] - 7s 4ms/step - loss: 0.1029 - accuracy: 0.9755 - val_loss: 0.1193 - val_accuracy: 0.9754\n",
      "Epoch 8/10\n",
      "1563/1563 [==============================] - 7s 4ms/step - loss: 0.1024 - accuracy: 0.9758 - val_loss: 0.1165 - val_accuracy: 0.9784\n",
      "Epoch 9/10\n",
      "1563/1563 [==============================] - 7s 4ms/step - loss: 0.1001 - accuracy: 0.9779 - val_loss: 0.1134 - val_accuracy: 0.9781\n",
      "Epoch 10/10\n",
      "1563/1563 [==============================] - 7s 4ms/step - loss: 0.0974 - accuracy: 0.9778 - val_loss: 0.1162 - val_accuracy: 0.9792\n"
     ]
    },
    {
     "data": {
      "text/plain": [
       "<tensorflow.python.keras.callbacks.History at 0x1e002c9be50>"
      ]
     },
     "execution_count": 98,
     "metadata": {},
     "output_type": "execute_result"
    }
   ],
   "source": [
    "model = get_mnist_model()\n",
    "model.compile(optimizer=\"rmsprop\",\n",
    "              loss=\"sparse_categorical_crossentropy\",\n",
    "              metrics=[\"accuracy\"])\n",
    "log_dir = \"logs/fit/\" + datetime.datetime.now().strftime(\"%Y%m%d-%H%M%S\")\n",
    "tensorboard = keras.callbacks.TensorBoard(\n",
    "    log_dir= log_dir,\n",
    ")\n",
    "model.fit(train_images, train_labels,\n",
    "          epochs=10,\n",
    "          validation_data=(val_images, val_labels),\n",
    "          callbacks=[tensorboard])\n"
   ]
  },
  {
   "cell_type": "code",
   "execution_count": 2,
   "metadata": {},
   "outputs": [
    {
     "name": "stdout",
     "output_type": "stream",
     "text": [
      "Enter all the numbers10 20 30 40 50 \n"
     ]
    },
    {
     "data": {
      "text/plain": [
       "[10, 20, 30, 40, 50]"
      ]
     },
     "execution_count": 2,
     "metadata": {},
     "output_type": "execute_result"
    }
   ],
   "source": [
    "ls=list(map(int,input(\"Enter all the numbers\").split()))\n"
   ]
  },
  {
   "cell_type": "code",
   "execution_count": 9,
   "metadata": {},
   "outputs": [
    {
     "data": {
      "text/plain": [
       "[5, 10, 20, 35]"
      ]
     },
     "execution_count": 9,
     "metadata": {},
     "output_type": "execute_result"
    }
   ],
   "source": [
    "ls.sort()\n",
    "lp=[20,10,5,35]\n",
    "lp.sort()\n",
    "lp"
   ]
  },
  {
   "cell_type": "code",
   "execution_count": 12,
   "metadata": {},
   "outputs": [
    {
     "data": {
      "text/plain": [
       "1"
      ]
     },
     "execution_count": 12,
     "metadata": {},
     "output_type": "execute_result"
    }
   ],
   "source": [
    "5%2"
   ]
  },
  {
   "cell_type": "code",
   "execution_count": 16,
   "metadata": {},
   "outputs": [
    {
     "name": "stdout",
     "output_type": "stream",
     "text": [
      "Enter total number of instance10\n",
      "Enter all the numbers20 123 125 458 45 158 46 125 456 85\n"
     ]
    }
   ],
   "source": [
    "total_number= int(input(\"Enter total number of instance\"))\n",
    "ls=list(map(int,input(\"Enter all the numbers\").split()))\n",
    "ls.sort()\n"
   ]
  },
  {
   "cell_type": "code",
   "execution_count": 33,
   "metadata": {},
   "outputs": [
    {
     "name": "stdout",
     "output_type": "stream",
     "text": [
      "[20, 45, 46, 85, 123, 125, 125, 158, 456, 458]\n",
      "if part 5 4\n",
      "if part 125\n",
      "[125]\n",
      "20\n",
      "Mean:  164.1\n",
      "Median:  124.0\n"
     ]
    }
   ],
   "source": [
    "print(ls)\n",
    "mean= sum(ls)/total_number\n",
    "lst=[]\n",
    "if (total_number%2)==0:\n",
    "    a=total_number//2\n",
    "    b=a-1\n",
    "    print(\"if part\",a,b)\n",
    "    median=(ls[a]+ls[b])/2\n",
    "else:\n",
    "    a= (total_number+1)/2\n",
    "    print(\"else part\",a)\n",
    "    median= ls[a]/2\n",
    "for i in range(total_number-1):\n",
    "    \n",
    "    if ls[i]==ls[i+1]:\n",
    "        print(\"if part\",ls[i])\n",
    "        lst.append(ls[i])\n",
    "lmt=[]   \n",
    "if lmt:\n",
    "    print(lst)\n",
    "    \n",
    "print(lst)\n",
    "print(ls[0])\n",
    "print(\"Mean: \",mean)\n",
    "print(\"Median: \", median)"
   ]
  },
  {
   "cell_type": "code",
   "execution_count": 51,
   "metadata": {},
   "outputs": [
    {
     "data": {
      "text/plain": [
       "'total_number= int(input())\\nls=list(map(int,input().split()))\\nls.sort()'"
      ]
     },
     "execution_count": 51,
     "metadata": {},
     "output_type": "execute_result"
    }
   ],
   "source": [
    "\"\"\"total_number= int(input())\n",
    "ls=list(map(int,input().split()))\n",
    "ls.sort()\"\"\"\n"
   ]
  },
  {
   "cell_type": "code",
   "execution_count": null,
   "metadata": {},
   "outputs": [],
   "source": []
  },
  {
   "cell_type": "code",
   "execution_count": 52,
   "metadata": {},
   "outputs": [
    {
     "data": {
      "text/plain": [
       "'lst=[]\\nprint(lst)\\nmean= sum(ls)/total_number\\nif (total_number%2)==0:\\n    a=total_number//2\\n    b=a-1\\n    median=(ls[a]+ls[b])/2\\nelse:\\n    a= (total_number+1)/2\\n    median= ls[a]/2\\nfor i in range(len(ls)-1):\\n    \\n    if ls[i]==ls[i+1]:\\n        print(i,ls[i], ls[i+1])\\n        lst.append(ls[i+1])\\n       \\n\\nprint(mean)\\nprint(median)\\nif lst:\\n    print(lst[0]) \\nelse:\\n    print(ls[0])'"
      ]
     },
     "execution_count": 52,
     "metadata": {},
     "output_type": "execute_result"
    }
   ],
   "source": [
    "\"\"\"lst=[]\n",
    "print(lst)\n",
    "mean= sum(ls)/total_number\n",
    "if (total_number%2)==0:\n",
    "    a=total_number//2\n",
    "    b=a-1\n",
    "    median=(ls[a]+ls[b])/2\n",
    "else:\n",
    "    a= (total_number+1)/2\n",
    "    median= ls[a]/2\n",
    "for i in range(len(ls)-1):\n",
    "    \n",
    "    if ls[i]==ls[i+1]:\n",
    "        print(i,ls[i], ls[i+1])\n",
    "        lst.append(ls[i+1])\n",
    "       \n",
    "\n",
    "print(mean)\n",
    "print(median)\n",
    "if lst:\n",
    "    print(lst[0]) \n",
    "else:\n",
    "    print(ls[0])\"\"\""
   ]
  },
  {
   "cell_type": "code",
   "execution_count": 62,
   "metadata": {},
   "outputs": [
    {
     "name": "stdout",
     "output_type": "stream",
     "text": [
      "1\n",
      "1\n",
      "1\n",
      "5\n"
     ]
    }
   ],
   "source": [
    "x = int(input())\n",
    "y = int(input())\n",
    "z = int(input())\n",
    "n = int(input())             "
   ]
  },
  {
   "cell_type": "code",
   "execution_count": 69,
   "metadata": {},
   "outputs": [
    {
     "data": {
      "text/plain": [
       "[1, 1, 1]"
      ]
     },
     "execution_count": 69,
     "metadata": {},
     "output_type": "execute_result"
    }
   ],
   "source": [
    "lst=[x,y,z]\n",
    "lst"
   ]
  },
  {
   "cell_type": "code",
   "execution_count": null,
   "metadata": {},
   "outputs": [],
   "source": []
  },
  {
   "cell_type": "code",
   "execution_count": 83,
   "metadata": {},
   "outputs": [
    {
     "name": "stdout",
     "output_type": "stream",
     "text": [
      "[[1, 1, 1]]\n"
     ]
    }
   ],
   "source": [
    "ls=[]  \n",
    "for i in range(1):\n",
    "    if (x+y+z)!=n:\n",
    "        ls.append([])\n",
    "        for j in range(3):\n",
    "            ls[i].append(lst[j])\n",
    "        ls.append([])\n",
    "        for k in range(3):\n",
    "            ls.append\n",
    "            \n",
    "print(ls)\n"
   ]
  }
 ],
 "metadata": {
  "kernelspec": {
   "display_name": "Python 3 (ipykernel)",
   "language": "python",
   "name": "python3"
  },
  "language_info": {
   "codemirror_mode": {
    "name": "ipython",
    "version": 3
   },
   "file_extension": ".py",
   "mimetype": "text/x-python",
   "name": "python",
   "nbconvert_exporter": "python",
   "pygments_lexer": "ipython3",
   "version": "3.8.10"
  }
 },
 "nbformat": 4,
 "nbformat_minor": 4
}
