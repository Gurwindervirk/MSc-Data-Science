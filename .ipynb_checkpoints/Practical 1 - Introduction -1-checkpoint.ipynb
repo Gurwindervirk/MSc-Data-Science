{
 "cells": [
  {
   "cell_type": "markdown",
   "metadata": {},
   "source": [
    "# Practical 1 - Introduction\n",
    "\n",
    "This notebook introduces you to the essential tools we will be using in this module. Most of you will be familiar with those from last semester's \"Foundations of Data Science\" module. Consider this as a refresher. \n",
    "\n",
    "You work through this notebook at your own pace. Make sure you understand and solve all tasks. Bring any questions, comments, suggestions to next week's practical session."
   ]
  },
  {
   "cell_type": "markdown",
   "metadata": {},
   "source": [
    "## 1 - Jupyter notebooks\n",
    "\n",
    "Jupyter notebooks can contain code, text, and images. You can edit the text and change the code. The first part of this notebook recaps the basics of notebooks and the possibilities they offer to structure text. This is useful e.g. for generating reports. \n",
    "\n",
    "### 1.1 Run and edit some code\n",
    "Below is a code cell. You recognise it by the `In [ ]:` next to it. \n",
    "\n",
    "**Task:** Run the code by selecting the cell with the mouse or with the arrow keys, and press Shift+Enter.\n",
    "\n",
    "**Task:** Make it print \"Data Science rocks!\""
   ]
  },
  {
   "cell_type": "code",
   "execution_count": null,
   "metadata": {},
   "outputs": [],
   "source": [
    "print(\"Hello world\")"
   ]
  },
  {
   "cell_type": "markdown",
   "metadata": {},
   "source": [
    "In case your code contains an error, jupyter will show you the Error or Exception it created that helps you locate the error. \n",
    "\n",
    "**Task:** Fix the code below so that it doesn't create an error. Use the information provied by the Error traceback. (Yes, this will change the semantics of the last line, no worries we are not interested in the result.)"
   ]
  },
  {
   "cell_type": "code",
   "execution_count": null,
   "metadata": {},
   "outputs": [],
   "source": [
    "a = 1 \n",
    "b = 2\n",
    "c = 2\n",
    "d = (a+b)/(b-c)"
   ]
  },
  {
   "cell_type": "markdown",
   "metadata": {},
   "source": [
    "### 1.3 edit some text\n",
    "Below is a text(markdown) cell. There are four types of cells. You can change the type of a cell by selecting the type in the top line. It supports formatting using Markdown. Select it and observe how the raw text appears, and what is used for formatting. \n",
    "\n",
    "**Task:** Change the cell below from a code to a markdown cell."
   ]
  },
  {
   "cell_type": "markdown",
   "metadata": {},
   "source": [
    "This is code, but it wants to be text!"
   ]
  },
  {
   "cell_type": "markdown",
   "metadata": {},
   "source": [
    "# I'm a text cell. I support headings of different levels:\n",
    "# heading 1\n",
    "## heading 2\n",
    "### heading 3\n",
    "#### Heading 4\n",
    "\n",
    "**Task**: is there a level 4 heading? Find out yourself!"
   ]
  },
  {
   "cell_type": "markdown",
   "metadata": {},
   "source": [
    "Please write your attempt for a level 4 heading below in this cell"
   ]
  },
  {
   "cell_type": "markdown",
   "metadata": {},
   "source": [
    "In this cell, observe how *slanted* and **bold** font is created. \n",
    "\n",
    "**Task:** Make the sentence \"I'm slanted.\" appear in *slanted* (italic) font, and the sentence \"I'm bold!\" appear in **bold** font."
   ]
  },
  {
   "cell_type": "markdown",
   "metadata": {},
   "source": [
    "I'm slanted.\n",
    "\n",
    "I'm bold!"
   ]
  },
  {
   "cell_type": "markdown",
   "metadata": {},
   "source": [
    "### 1.4 Getting help\n",
    "\n",
    "Jupyter notebooks support two ways of help: \n",
    "1. help for Jupyter notebooks via the \"Help menu\".\n",
    "2. in-line help for Python commands and objects via the `?` command.\n",
    "\n",
    "**Task:** Explore the Help menu. Take the User interface tour.\n",
    "\n",
    "**Task:** Execute the below cell to obtain the python documentation for the `print` function. Exit the help viewer by pressing `q`.\n",
    "\n",
    "**Task:** Modify the cell to look up the python documentation for the `help` function."
   ]
  },
  {
   "cell_type": "code",
   "execution_count": null,
   "metadata": {},
   "outputs": [],
   "source": [
    "print?"
   ]
  },
  {
   "cell_type": "markdown",
   "metadata": {},
   "source": [
    "### 1.5 Saving and loading Jupyter notebooks\n",
    "\n",
    "Save this notebook either by pressing the icon in the top left, or by hitting Ctrl+S.\n",
    "\n",
    "Notebooks are plain-text files in a format called JSON. \n",
    "\n",
    "**Task:** Use the file manager to navigate to the location of this notebook. Open the notebook with a text editor and verify that it's plain text. "
   ]
  },
  {
   "cell_type": "markdown",
   "metadata": {},
   "source": [
    "## 2 - The NumPy module\n",
    "\n",
    "Modules are imported using the `import` statement. To save us some typing, we usually use the `import ... as ...` idiom that lets us assing a shorthand for external modules. \n",
    "\n",
    "**Task:** Run the cell below to import `numpy`, under the name `np`."
   ]
  },
  {
   "cell_type": "code",
   "execution_count": null,
   "metadata": {},
   "outputs": [],
   "source": [
    "import numpy as np"
   ]
  },
  {
   "cell_type": "markdown",
   "metadata": {},
   "source": [
    "### 2.1 Arrays\n",
    "\n",
    "The essential functionality of the `numpy` module is to provide an `array` class. The cell below creates an array from a python list.\n",
    "**Task:** execute the cell. Notice the last line has only the `a` in it. This causes the value of `a` to be printed."
   ]
  },
  {
   "cell_type": "code",
   "execution_count": null,
   "metadata": {},
   "outputs": [],
   "source": [
    "l = [4,5,4,3,2,7]\n",
    "a = np.array(l)\n",
    "a"
   ]
  },
  {
   "cell_type": "markdown",
   "metadata": {},
   "source": [
    "Numpy arrays can be two-dimensional, three-dimensional, essentially any-dimensional. These are created from nested lists.\n",
    "\n",
    "**Task:** execute the below cell. Notice that a square matrix is created."
   ]
  },
  {
   "cell_type": "code",
   "execution_count": null,
   "metadata": {},
   "outputs": [],
   "source": [
    "l = [[1,2,3],\n",
    "     [4,5,6],\n",
    "     [7,8,9]]\n",
    "a = np.array(l)\n",
    "a"
   ]
  },
  {
   "cell_type": "markdown",
   "metadata": {},
   "source": [
    "Numpy arrays can be two-dimensional, three-dimensional, essentially any-dimensional. These are created from nested lists.\n",
    "\n",
    "**Task:** Extend the array a to be a 3x4 array with the numbers from 1-12 instead of 1-9.\n",
    "\n",
    "Remeber you can use *variable*.shape to get the shape of an array/matrix."
   ]
  },
  {
   "cell_type": "code",
   "execution_count": null,
   "metadata": {},
   "outputs": [],
   "source": [
    "a.shape"
   ]
  },
  {
   "cell_type": "markdown",
   "metadata": {},
   "source": [
    "### 2.2 Random numbers\n",
    "\n",
    "Numpy can do much more and we'll cover it in detail next week. For now, please take a moment to explore the generation of random numbers using the `numpy.random` module. \n",
    "\n",
    "The 'rand' function provides a single random numbers between 0 and 1. \n",
    "\n",
    "**Task:** execute the below cell a couple of times and observe that each number is random. \n",
    "\n",
    "**Task (for advanced students)**: Use the `?` method to find out what arguments the `rand()` function takes and explore the result. "
   ]
  },
  {
   "cell_type": "code",
   "execution_count": null,
   "metadata": {},
   "outputs": [],
   "source": [
    "np.random.rand()"
   ]
  },
  {
   "cell_type": "markdown",
   "metadata": {},
   "source": [
    "We will later use normally distributed numbers (\"gaussian noise\"). As you recall from your statistics courses, a normal distribution is characterised by its **mean** and **variance**.\n",
    "\n",
    "The cell below creates an array of size 10 with mean 0.0 and variance 1.0.\n",
    "\n",
    "**Task:** Run the cell below a couple of times and observe that the numbers generated are centered around 0.0, and that values close to 0.0 are more frequent than values larger than 1.0 or smaller than -1.0 ."
   ]
  },
  {
   "cell_type": "code",
   "execution_count": null,
   "metadata": {
    "scrolled": true
   },
   "outputs": [],
   "source": [
    "b = np.random.normal(0., 1., 10)\n",
    "b"
   ]
  },
  {
   "cell_type": "markdown",
   "metadata": {},
   "source": [
    "What happens if we change the function call to \n",
    "\n",
    "np.random.normal(5., 1., 10), \n",
    "\n",
    "what if we call np.random.normal(0., 12., 10) \n",
    "\n",
    "or np.random.normal(0., 1., 50) instead? \n",
    "\n",
    "**Task:** First use the ? help functionality to investigate and then see if your answer is correct."
   ]
  },
  {
   "cell_type": "code",
   "execution_count": null,
   "metadata": {},
   "outputs": [],
   "source": [
    "\n",
    "#Do your investigations here"
   ]
  },
  {
   "cell_type": "markdown",
   "metadata": {},
   "source": [
    "## 3 - Plotting with matplotlib\n",
    "\n",
    "`matplotlib` is the de-facto standard tool for plotting in python. The essential functionality is contained in the `pyplot` submodule. Let's import it:"
   ]
  },
  {
   "cell_type": "code",
   "execution_count": null,
   "metadata": {},
   "outputs": [],
   "source": [
    "import matplotlib.pyplot as plt"
   ]
  },
  {
   "cell_type": "markdown",
   "metadata": {},
   "source": [
    "By default, `matplotlib` opens a new window for each plot. Jupyter notebooks have special support for `matplotlib` so that it can display its plots inside the notebook, without creating a new window. This is activated by the following cell: "
   ]
  },
  {
   "cell_type": "code",
   "execution_count": null,
   "metadata": {},
   "outputs": [],
   "source": [
    "%matplotlib inline"
   ]
  },
  {
   "cell_type": "markdown",
   "metadata": {},
   "source": [
    "### 3.1 Plotting lines\n",
    "`matplotlib` can handle lists or arrays. Let's make a figure from a list:"
   ]
  },
  {
   "cell_type": "code",
   "execution_count": null,
   "metadata": {},
   "outputs": [],
   "source": [
    "l = [4,3,6,5,4,7,3,5,3,4]\n",
    "plt.plot(l)"
   ]
  },
  {
   "cell_type": "markdown",
   "metadata": {},
   "source": [
    "**Task**: Change the above cell to use an array for plotting. Create an array from the list as above, and passi this to the `plot` function. "
   ]
  },
  {
   "cell_type": "markdown",
   "metadata": {},
   "source": [
    "### 3.2 Scatterplots - plotting point clouds\n",
    "\n",
    "We will often plot \"point clouds\" with `matplotlib`, so-called scatterplots. Here, we will plot the distribution of a bivariate (i.e. 2-dimensional) point cloud distributed around 0.0 with variance 1.0 . \n",
    "\n",
    "The cell below creates a point cloud with 100 points using `numpy` random numbers. Note how we create two arrays using `numpy.random.normal`, one for `x` coordinates, and one for `y` coordinates. The point cloud is then plotted using the `scatter` function. \n",
    "\n",
    "**Task:** execute the cell multiple times and observe that the random points are different each time - because they're random. \n",
    "\n",
    "**Task (advanced):** Change the location shape of the point cloud by changing the mean and variance of `x` and `y` points.\n",
    "\n",
    "**Task (advanced):** look up what `plt.gca()` is doing."
   ]
  },
  {
   "cell_type": "code",
   "execution_count": null,
   "metadata": {},
   "outputs": [],
   "source": [
    "cloud1_x = np.random.normal(0.0, .5, 100)\n",
    "cloud1_y = np.random.normal(0.0, 2.0, 100)\n",
    "ax = plt.scatter(cloud1_x, cloud1_y)\n",
    "plt.gca().axis('equal')"
   ]
  },
  {
   "cell_type": "markdown",
   "metadata": {},
   "source": [
    "The `scatter` function lets you control the appearance of the points. For example, it can also plot red crosses instead of blue circles:"
   ]
  },
  {
   "cell_type": "code",
   "execution_count": null,
   "metadata": {},
   "outputs": [],
   "source": [
    "plt.scatter(cloud1_x, cloud1_y, marker='x', c=\"red\")"
   ]
  },
  {
   "cell_type": "markdown",
   "metadata": {},
   "source": [
    "## 4 - Pandas and Data Frames \n",
    "\n",
    "The pandas module is dedicated to managing data. It is built around the `DataFrame` concept. A `DataFrame` is essentially a multidimensional array that supports textual identifiers for rows and columns. It can also mix different data types like numbers and strings, e.g. to add labels to data. \n",
    "\n",
    "The cell below imports pandas and create a `DataFrame` from our point cloud. Take a minute to observe that we first create a 2-dimensional array from `cloud1_x` and `cloud1_y`.\n",
    "\n",
    "**Task:** run the cell below and observe that the `DataFrame` is nicely shown in tabular format. "
   ]
  },
  {
   "cell_type": "code",
   "execution_count": null,
   "metadata": {},
   "outputs": [],
   "source": [
    "import pandas as pd\n",
    "cloud1_2dim = np.array([cloud1_x, cloud1_y])\n",
    "df = pd.DataFrame(cloud1_2dim)\n",
    "df"
   ]
  },
  {
   "cell_type": "markdown",
   "metadata": {},
   "source": [
    "Let's beautify this data Frame a little. First, we want to transpose it so that each point is a row, and columns correspond to coordinates. By convention, this is how multivariate data is stored. \n",
    "\n",
    "**Task:** run the cell below and observe that DataFrame is transposed, with two columns corresponding to two dimensions of the point cloud. \n",
    "\n",
    "**Note:** If you run the cell multiple times the `DataFrame` will transpose back and forth. Make sure the `DataFrame` is printed with 100 rows x 2 columns before continuing."
   ]
  },
  {
   "cell_type": "code",
   "execution_count": null,
   "metadata": {},
   "outputs": [],
   "source": [
    "df = df.transpose()\n",
    "df"
   ]
  },
  {
   "cell_type": "markdown",
   "metadata": {},
   "source": [
    "A `DataFrames` supports naming columns and rows. It also allows adding new columns with per-point attributes. We will learn the nitty-gritty of this functionality later in this module. For now, the below code is provided that does the following:\n",
    "1. name column zero \"x\" and column 1 \"y\"\n",
    "2. name each point \"cloud1_&lt;x>\" where &lt;x> is a running index\n",
    "3. add a common label \"cloud1\" to all points"
   ]
  },
  {
   "cell_type": "code",
   "execution_count": null,
   "metadata": {},
   "outputs": [],
   "source": [
    "df.columns = [\"x\", \"y\"]\n",
    "point_names = [\"cloud1_{}\".format(i) for i in range(len(cloud1_x))]\n",
    "df.index = point_names\n",
    "df['label'] = 'cloud1'\n",
    "df"
   ]
  },
  {
   "cell_type": "markdown",
   "metadata": {},
   "source": [
    "Why, you may ask? What is this good for? \n",
    "\n",
    "Well, it is actually a very powerful feature for data analysis! The labels, point names, column names etc. allow to specify a way to select parts of the data frame, like all `x` coordinates:"
   ]
  },
  {
   "cell_type": "code",
   "execution_count": null,
   "metadata": {},
   "outputs": [],
   "source": [
    "df['x']"
   ]
  },
  {
   "cell_type": "markdown",
   "metadata": {},
   "source": [
    "... or the `y` coordinate of the point named `cloud1_3`:"
   ]
  },
  {
   "cell_type": "code",
   "execution_count": null,
   "metadata": {},
   "outputs": [],
   "source": [
    "df.loc['cloud1_3',['y']]"
   ]
  },
  {
   "cell_type": "markdown",
   "metadata": {},
   "source": [
    "**Task (advanced)**: write code that selects all `x` values less than zero, in the points labeled `cloud1_34` to `cloud1_43`."
   ]
  },
  {
   "cell_type": "markdown",
   "metadata": {},
   "source": [
    "## 5 - scikit-learn\n",
    "\n",
    "The final part of today's practical is a look at the Scikit-learn module, a module for predictive data analysis. Scikit-learn contains tools for supervised and unsupervised learning for classification, regression, clustering, among other use cases. See the [scikit-learn home page](https://scikit-learn.org/stable/index.html) for more details!\n",
    "\n",
    "For now we are interested in a simple classifier, the Naive Bayes classifier. It can be trained to separate classes of data points. For training, it takes examples of each class and estimates mean and variance of the associated coordinates (or *features*). The resulting parameters form the *model* of the Naive Bayes Classifier. \n",
    "\n",
    "Let's start by importing the Naive Bayes sub module from the scikit-learn module. In Python terms Scikit-learn is called `sklearn` and the naive bayes module `GaussianNB`. "
   ]
  },
  {
   "cell_type": "code",
   "execution_count": null,
   "metadata": {},
   "outputs": [],
   "source": [
    "from sklearn.naive_bayes import GaussianNB as nb"
   ]
  },
  {
   "cell_type": "markdown",
   "metadata": {},
   "source": [
    "Let's make some data for the classifier to classify. We use two point clouds, one with centered on [0.0,0.0] with variance 1.0 (as above), and a second onewith center [3.0, 3.0] and variance 1. \n",
    "\n",
    "**Task:** run the cell below. It creates two point clouds, stores each in a `DataFrame`, complete with labels and indices. \n",
    "\n",
    "**Note:** \n",
    "The cell below creates a two-dimensional point cloud directly by using a two-dimensional center `[3.,3.]`. The `size` argument specifies that the resulting array should have 100 rows and 2 columns (`[100,1]`). We will cover these `numpy` features in the next unit. For now, it's ok to take the code as given."
   ]
  },
  {
   "cell_type": "code",
   "execution_count": null,
   "metadata": {},
   "outputs": [],
   "source": [
    "#create point clouds\n",
    "cloud1 = np.random.normal([0.,0.], 1., size=[100,2])\n",
    "cloud2 = np.random.normal([3.,3.], 1., size=[100,2])\n",
    "\n",
    "#create DataFrame for first cloud\n",
    "df1 = pd.DataFrame(cloud1, columns=['x', 'y'], index=[\"cloud1_{}\".format(i) for i in range(len(cloud1))])\n",
    "df1['label'] = 'cloud1'\n",
    "                   \n",
    "#create DataFrame for second cloud\n",
    "df2 = pd.DataFrame(cloud2, columns=['x', 'y'], index=[\"cloud2_{}\".format(i) for i in range(len(cloud2))]) \n",
    "df2['label'] = 'cloud2'\n",
    "                   \n",
    "df1"
   ]
  },
  {
   "cell_type": "code",
   "execution_count": null,
   "metadata": {},
   "outputs": [],
   "source": [
    "df2"
   ]
  },
  {
   "cell_type": "markdown",
   "metadata": {},
   "source": [
    "Let's plot the two clouds. Conveniently, `pandas` has integrated matplotlib so that we can use the sophisticated data selection tools of a DataFrame for plotting. Again, this is mainly intended as a demonstration, we'll cover the details of what's going on below in a later unit.\n",
    "\n",
    "**Task**: Run the cell below and observe how two point clouds are plotted. Can you identify the one with mean [0,0] and the one with mean [3,3]?\n",
    "\n",
    "**Task (advanced students):** look up the documentation of `DataFrame.plot.scatter` and try to understand what's going on in the cell below. "
   ]
  },
  {
   "cell_type": "code",
   "execution_count": null,
   "metadata": {},
   "outputs": [],
   "source": [
    "plt.scatter(df1['x'], df1['y'], marker='o', c='blue')\n",
    "plt.scatter(df2['x'], df2['y'], marker='x', c='red')"
   ]
  },
  {
   "cell_type": "markdown",
   "metadata": {},
   "source": [
    "**Task:** Create your own two clouds, one centered around 4,4 and one around 8,8. \n",
    "\n",
    "All the code but the actual creation of the clouds is given below, fill it out."
   ]
  },
  {
   "cell_type": "code",
   "execution_count": null,
   "metadata": {},
   "outputs": [],
   "source": [
    "#create point clouds\n",
    "my_cloud1 = \n",
    "my_cloud2 = \n",
    "\n",
    "#create DataFrame for first cloud\n",
    "df3 = pd.DataFrame(my_cloud1, columns=['x', 'y'], index=[\"my_cloud1_{}\".format(i) for i in range(len(my_cloud1))])\n",
    "df3['label'] = 'my_cloud1'\n",
    "                   \n",
    "#create DataFrame for second cloud\n",
    "df4 = pd.DataFrame(my_cloud2, columns=['x', 'y'], index=[\"my_cloud2_{}\".format(i) for i in range(len(my_cloud2))]) \n",
    "df4['label'] = 'my_cloud2'\n",
    "                   \n",
    "df3"
   ]
  },
  {
   "cell_type": "markdown",
   "metadata": {},
   "source": [
    "Now we have two point clouds, we can train the classifier to learn to separate them. \n",
    "\n",
    "Scikit-learn has a standardised way of training classifiers, using the `fit()` method. All we have to do is to give it data and labels. To make our life easier, we combine the two data frames:"
   ]
  },
  {
   "cell_type": "code",
   "execution_count": null,
   "metadata": {},
   "outputs": [],
   "source": [
    "df_all = df1.append(df2)\n",
    "df_all"
   ]
  },
  {
   "cell_type": "markdown",
   "metadata": {},
   "source": [
    "`df_all` now contains data from both point clouds, with the `label` column indicating which cloud each datapoint belongs to. \n",
    "\n",
    "The `label` column is now the label for training.\n",
    "\n",
    "We can finally train the Scikit-learn classifier!"
   ]
  },
  {
   "cell_type": "code",
   "execution_count": null,
   "metadata": {},
   "outputs": [],
   "source": [
    "from sklearn.naive_bayes import GaussianNB\n",
    "gnb = GaussianNB()\n",
    "gnb.fit(X=df_all[['x','y']], y=df_all['label'])\n"
   ]
  },
  {
   "cell_type": "markdown",
   "metadata": {},
   "source": [
    "Finally, we need to check what the Naive Bayes classifier has learnt. To this end, we create a third point cloud with mean [1.5,1.5] and variance 1.5.  "
   ]
  },
  {
   "cell_type": "code",
   "execution_count": null,
   "metadata": {},
   "outputs": [],
   "source": [
    "cloud3 = np.random.normal([1.5,1.5], 1.5, size=[100,2])\n",
    "df3 = pd.DataFrame(cloud3, columns=['x', 'y'])"
   ]
  },
  {
   "cell_type": "markdown",
   "metadata": {},
   "source": [
    "This cloud sits right on top of the two existing clouds! Let's see how it looks like on top of the two existing clouds:"
   ]
  },
  {
   "cell_type": "code",
   "execution_count": null,
   "metadata": {},
   "outputs": [],
   "source": [
    "plt.scatter(df1['x'], df1['y'], marker='o', c='blue')\n",
    "plt.scatter(df2['x'], df2['y'], marker='x', c='red')\n",
    "plt.scatter(df3['x'], df3['y'], marker='+', c='green')"
   ]
  },
  {
   "cell_type": "markdown",
   "metadata": {},
   "source": [
    "We're almost there! Now, let's use the trained Naive Bayes classifier to predict, for all points in cloud 3, which of the two original classes it is most likely to adhere to:"
   ]
  },
  {
   "cell_type": "code",
   "execution_count": null,
   "metadata": {},
   "outputs": [],
   "source": [
    "label_pred = gnb.predict(df3[['x','y']])\n",
    "label_pred"
   ]
  },
  {
   "cell_type": "markdown",
   "metadata": {},
   "source": [
    "Finally, we plot all points that belong to cloud one with light blue crosses, and those that belong to cloud2 with light red crosses."
   ]
  },
  {
   "cell_type": "code",
   "execution_count": null,
   "metadata": {},
   "outputs": [],
   "source": [
    "pred_cloud1 = df3.values[label_pred=='cloud1',:] #advanced array slicing, will be covered next week\n",
    "pred_cloud2 = df3.values[label_pred=='cloud2',:] \n",
    "\n",
    "plt.scatter(df1['x'], df1['y'], marker='o', c='blue')\n",
    "plt.scatter(df2['x'], df2['y'], marker='x', c='red')\n",
    "\n",
    "plt.scatter(pred_cloud1[:,0], pred_cloud1[:,1], marker='+', c='lightblue')\n",
    "plt.scatter(pred_cloud2[:,0], pred_cloud2[:,1], marker='+', c='pink')\n"
   ]
  },
  {
   "cell_type": "markdown",
   "metadata": {},
   "source": [
    "**Task (advanced):** change the distance, shape, and overlap of the point clouds by modifying the mean and the variance of the underlying normal distributions. How are the new points classified? What do you observe?"
   ]
  },
  {
   "cell_type": "markdown",
   "metadata": {},
   "source": [
    "## 6 - Conclusion\n",
    "\n",
    "That's it! In this notebook you have taken a tour around the most important data science tools in Python. \n",
    "\n",
    "### 6.1 Check your learning!\n",
    "After having completed this session, you should:\n",
    "1. Be familiar with running and operating Jupyter notebooks. \n",
    "2. have an understanding what numpy, matplotlib, pandas, and scikit-learn are doing. \n",
    "\n",
    "Next week we'll dive deep into Principal component analysis.\n",
    "\n",
    "\n"
   ]
  },
  {
   "cell_type": "markdown",
   "metadata": {},
   "source": [
    "# Submission Instructions\n",
    "\n",
    "Before submitting this via canvas please go to kernel -> 'Restart&Run All'. Please check afterwards if this introduced any issues, then you should fix them. Your notebook should, in the end always represent working code written in a linear way, one cell after the other."
   ]
  },
  {
   "cell_type": "markdown",
   "metadata": {},
   "source": [
    "**Do not touch the cells below!**"
   ]
  },
  {
   "cell_type": "code",
   "execution_count": null,
   "metadata": {},
   "outputs": [],
   "source": [
    "from IPython import display\n",
    "path = \"\"\n",
    "if a.shape != (3,3):\n",
    "    path= \"https://www.iconsdb.com/icons/preview/orange/checkmark-xxl.png\"\n",
    "if a.shape == (3,4):\n",
    "    path= \"https://www.iconsdb.com/icons/preview/green/checkmark-xxl.png\"\n",
    "    \n",
    "display.Image(path)"
   ]
  },
  {
   "cell_type": "code",
   "execution_count": null,
   "metadata": {},
   "outputs": [],
   "source": [
    "my_cloud3\n",
    "my_cloud4    \n",
    "display.Image(path)"
   ]
  },
  {
   "cell_type": "code",
   "execution_count": null,
   "metadata": {},
   "outputs": [],
   "source": []
  }
 ],
 "metadata": {
  "kernelspec": {
   "display_name": "Python 3",
   "language": "python",
   "name": "python3"
  },
  "language_info": {
   "codemirror_mode": {
    "name": "ipython",
    "version": 3
   },
   "file_extension": ".py",
   "mimetype": "text/x-python",
   "name": "python",
   "nbconvert_exporter": "python",
   "pygments_lexer": "ipython3",
   "version": "3.8.5"
  }
 },
 "nbformat": 4,
 "nbformat_minor": 2
}
