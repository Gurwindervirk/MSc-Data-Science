{
 "cells": [
  {
   "cell_type": "code",
   "execution_count": 27,
   "metadata": {},
   "outputs": [
    {
     "name": "stdout",
     "output_type": "stream",
     "text": [
      "2.4.1\n"
     ]
    }
   ],
   "source": [
    "import tensorflow as tf\n",
    "print(tf.__version__)"
   ]
  },
  {
   "cell_type": "code",
   "execution_count": 28,
   "metadata": {},
   "outputs": [],
   "source": [
    "mnist= tf.keras.datasets.fashion_mnist"
   ]
  },
  {
   "cell_type": "code",
   "execution_count": 29,
   "metadata": {},
   "outputs": [],
   "source": [
    "(training_images, training_labels), (testing_images, testing_labels)= mnist.load_data()"
   ]
  },
  {
   "cell_type": "code",
   "execution_count": 30,
   "metadata": {},
   "outputs": [
    {
     "name": "stdout",
     "output_type": "stream",
     "text": [
      "[[  0   0   0   1   0   0   0   0   0  34 148 202 107  84 162 198  90  26   0   0   0   0   0   0   0   0   0   0]\n",
      " [  0   0   0   0   0   0  21 107 166 168 152 204 238 248 237 190 142 178 158  98  17   0   0   0   0   0   0   0]\n",
      " [  0   0   0   1   0  55 188 140 131 121 119 116 146 157 132 115 136 125 140 143 181  51   0   0   0   0   0   0]\n",
      " [  0   0   0   0   0 167 134 113 130 134 140 132 125 125 131 135 130 133 131 115 135 163   6   0   0   0   0   0]\n",
      " [  0   0   0   0  58 148 133 124 134 128 135 128 133 130 133 137 138 130 124 130 133 147  82   0   1   0   0   0]\n",
      " [  0   0   0   0  86 148 158 139 124 120 131 134 132 134 124 134 132 137 126 137 136 146 114   0   0   0   0   0]\n",
      " [  0   0   0   0 112 141 174 143 117 134 130 128 131 136 134 128 128 131 106 187 149 147 143   0   0   0   0   0]\n",
      " [  0   0   0   0 134 151 167 154 114 134 138 139 135 135 130 130 124 129 119 229 141 145 164   0   0   0   0   0]\n",
      " [  0   0   0   0 136 154 169 157 109 147 140 137 137 136 142 141 139 129 123 201 146 138 172  21   0   0   0   0]\n",
      " [  0   0   0   0 145 158 171 175 111 136 145 136 135 138 137 143 146 140 122 184 167 136 170  58   0   0   0   0]\n",
      " [  0   0   0   0 151 155 189 183 120 135 132 136 135 133 128 130 134 120 153 230 156 135 167  83   0   0   0   0]\n",
      " [  0   0   0   1 166 151 208 175 116 142 144 138 149 133 131 137 140 119 126 206 198 141 166 101   0   0   0   0]\n",
      " [  0   0   0   6 169 146 237 187 104 131 136 149 147 137 137 137 132 137 113 166 206 151 162 126   0   0   0   0]\n",
      " [  0   0   0  20 180 136 231 214 105 134 140 139 136 137 136 148 134 149 111 139 255 151 158 147   0   0   0   0]\n",
      " [  0   0   0  33 184 109 217 182 105 124 143 131 135 137 139 138 131 142 132  99 249 162 157 172   0   0   0   0]\n",
      " [  0   0   0  35 180 112 233 143 109 133 145 146 142 142 139 141 135 141 152 101 205 163 154 170   0   0   0   0]\n",
      " [  0   0   0  42 183 123 217 117 126 137 140 134 137 135 143 141 133 133 149 107 166 176 153 169  14   0   0   0]\n",
      " [  0   0   0  48 175 147 210 101 119 136 142 137 142 139 147 142 146 126 138 102 131 197 161 183  32   0   0   0]\n",
      " [  0   0   0  56 165 163 213  74 126 138 149 133 133 132 141 134 142 132 132 126 117 193 162 172  39   0   0   0]\n",
      " [  0   0   0  62 157 165 227  39 135 138 136 142 146 143 136 138 134 141 134 116  78 197 171 156  44   0   0   0]\n",
      " [  0   0   0  65 162 169 245  39 140 133 133 128 132 134 143 145 134 133 134 128  36 208 172 151  55   0   0   0]\n",
      " [  0   0   0  72 147 168 244  25 142 137 138 133 128 132 147 145 135 136 133 131  26 207 173 149  67   0   0   0]\n",
      " [  0   0   0  68 153 179 250  11 135 134 139 133 136 140 140 143 145 140 131 126  32 207 175 136  73   0   0   0]\n",
      " [  0   0   0  61 155 180 252  23 151 132 131 133 133 129 135 140 132 139 132 139  38 221 174 135  77   0   0   0]\n",
      " [  0   0   0  18 147 187 185   3 173 153 151 150 153 150 150 153 148 151 146 161   4 184 175 136  37   0   0   0]\n",
      " [  0   0   0   0 150 204  76   0 213 165 167 170 172 171 169 170 172 167 160 202   0 107 196 152   0   0   0   0]\n",
      " [  0   0   0   0 123 162  41   2 153 124 133 136 141 135 132 134 139 144 141 132   0  67 153 142   0   0   0   0]\n",
      " [  0   0   0   0   0   0   0   0   0   0   0   0   0   0   0   0   0   0   0   0   0   0   0   0   0   0   0   0]]\n",
      "2\n"
     ]
    },
    {
     "data": {
      "image/png": "[encoded data removed]",
      "text/plain": [
       "<Figure size 432x288 with 1 Axes>"
      ]
     },
     "metadata": {
      "needs_background": "light"
     },
     "output_type": "display_data"
    }
   ],
   "source": [
    "import matplotlib.pyplot as plt\n",
    "import numpy as np\n",
    "np.set_printoptions(linewidth=200)\n",
    "plt.imshow(training_images[45])\n",
    "print(training_images[45])\n",
    "print(training_labels[45])"
   ]
  },
  {
   "cell_type": "code",
   "execution_count": 31,
   "metadata": {},
   "outputs": [],
   "source": [
    "class myCallbacks(tf.keras.callbacks.Callback):\n",
    "    def on_epoch_end(self, epoch, log={}):\n",
    "        if(log.get('loss')<0.3):\n",
    "            print('Stopping because function has reached required accuracy')\n",
    "            self.model.stop_training= True\n",
    "        "
   ]
  },
  {
   "cell_type": "code",
   "execution_count": 32,
   "metadata": {},
   "outputs": [],
   "source": [
    "training_images= training_images/255\n",
    "#normalising data \n",
    "testing_images= testing_images/255\n",
    "callbacks= myCallbacks()"
   ]
  },
  {
   "cell_type": "code",
   "execution_count": 33,
   "metadata": {},
   "outputs": [
    {
     "name": "stdout",
     "output_type": "stream",
     "text": [
      "Epoch 1/10\n",
      "1875/1875 [==============================] - 4s 2ms/step - loss: 0.5861 - accuracy: 0.7930\n",
      "Epoch 2/10\n",
      "1875/1875 [==============================] - 4s 2ms/step - loss: 0.3660 - accuracy: 0.8656\n",
      "Epoch 3/10\n",
      "1875/1875 [==============================] - 4s 2ms/step - loss: 0.3205 - accuracy: 0.8822\n",
      "Epoch 4/10\n",
      "1875/1875 [==============================] - 4s 2ms/step - loss: 0.2982 - accuracy: 0.8894\n",
      "Stopping because function has reached required accuracy\n"
     ]
    },
    {
     "data": {
      "text/plain": [
       "<tensorflow.python.keras.callbacks.History at 0x2064f851d90>"
      ]
     },
     "execution_count": 33,
     "metadata": {},
     "output_type": "execute_result"
    }
   ],
   "source": [
    "model= tf.keras.models.Sequential([ tf.keras.layers.Flatten(),\n",
    "                                    tf.keras.layers.Dense(512, activation= tf.nn.relu),# for passing values only greater than 0\n",
    "                                   tf.keras.layers.Dense(10, activation=tf.nn.softmax)\n",
    "])\n",
    "model.compile(optimizer= tf.optimizers.Adam(),\n",
    "             loss='sparse_categorical_crossentropy',\n",
    "             metrics=['accuracy'])\n",
    "model.fit(training_images, training_labels, epochs=10 , callbacks=[callbacks])"
   ]
  },
  {
   "cell_type": "code",
   "execution_count": 37,
   "metadata": {},
   "outputs": [
    {
     "name": "stdout",
     "output_type": "stream",
     "text": [
      "[1.4566654e-06 9.9999797e-01 2.1359646e-08 8.5052029e-08 2.8066353e-07 7.8798215e-13 2.1542257e-07 4.2735112e-16 2.1796864e-10 4.1486339e-11]\n"
     ]
    },
    {
     "data": {
      "text/plain": [
       "1"
      ]
     },
     "execution_count": 37,
     "metadata": {},
     "output_type": "execute_result"
    }
   ],
   "source": [
    "classifications= model.predict(testing_images)\n",
    "print(classifications[5])\n",
    "testing_labels[5]\n"
   ]
  }
 ],
 "metadata": {
  "kernelspec": {
   "display_name": "Python 3",
   "language": "python",
   "name": "python3"
  },
  "language_info": {
   "codemirror_mode": {
    "name": "ipython",
    "version": 3
   },
   "file_extension": ".py",
   "mimetype": "text/x-python",
   "name": "python",
   "nbconvert_exporter": "python",
   "pygments_lexer": "ipython3",
   "version": "3.8.5"
  }
 },
 "nbformat": 4,
 "nbformat_minor": 4
}
