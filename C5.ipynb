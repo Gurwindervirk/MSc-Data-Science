{
 "cells": [
  {
   "cell_type": "code",
   "execution_count": 1,
   "metadata": {},
   "outputs": [],
   "source": [
    "from tensorflow.keras.datasets import mnist \n",
    "import numpy as np\n",
    "  \n",
    "(train_images, train_labels), _ = mnist.load_data()\n",
    "train_images = train_images.reshape((60000, 28 * 28))\n",
    "train_images = train_images.astype(\"float32\") / 255 \n",
    "  \n",
    "train_images_with_noise_channels = np.concatenate(\n",
    "    [train_images, np.random.random((len(train_images), 784))], axis=1)\n",
    "  \n",
    "train_images_with_zeros_channels = np.concatenate(\n",
    "    [train_images, np.zeros((len(train_images), 784))], axis=1)"
   ]
  },
  {
   "cell_type": "code",
   "execution_count": 2,
   "metadata": {},
   "outputs": [
    {
     "name": "stdout",
     "output_type": "stream",
     "text": [
      "Epoch 1/10\n",
      "375/375 [==============================] - 4s 10ms/step - loss: 1.0799 - accuracy: 0.6961 - val_loss: 0.2469 - val_accuracy: 0.9252\n",
      "Epoch 2/10\n",
      "375/375 [==============================] - 3s 7ms/step - loss: 0.2772 - accuracy: 0.9135 - val_loss: 0.2068 - val_accuracy: 0.9333\n",
      "Epoch 3/10\n",
      "375/375 [==============================] - 3s 8ms/step - loss: 0.1713 - accuracy: 0.9456 - val_loss: 0.1770 - val_accuracy: 0.9474\n",
      "Epoch 4/10\n",
      "375/375 [==============================] - 3s 8ms/step - loss: 0.1200 - accuracy: 0.9598 - val_loss: 0.1593 - val_accuracy: 0.9545\n",
      "Epoch 5/10\n",
      "375/375 [==============================] - 3s 8ms/step - loss: 0.0862 - accuracy: 0.9723 - val_loss: 0.1792 - val_accuracy: 0.9473\n",
      "Epoch 6/10\n",
      "375/375 [==============================] - 3s 8ms/step - loss: 0.0645 - accuracy: 0.9801 - val_loss: 0.1136 - val_accuracy: 0.9670\n",
      "Epoch 7/10\n",
      "375/375 [==============================] - 3s 8ms/step - loss: 0.0461 - accuracy: 0.9851 - val_loss: 0.1452 - val_accuracy: 0.9620\n",
      "Epoch 8/10\n",
      "375/375 [==============================] - 3s 8ms/step - loss: 0.0314 - accuracy: 0.9905 - val_loss: 0.1153 - val_accuracy: 0.9703\n",
      "Epoch 9/10\n",
      "375/375 [==============================] - 3s 9ms/step - loss: 0.0257 - accuracy: 0.9915 - val_loss: 0.1267 - val_accuracy: 0.9685\n",
      "Epoch 10/10\n",
      "375/375 [==============================] - 4s 9ms/step - loss: 0.0174 - accuracy: 0.9944 - val_loss: 0.1157 - val_accuracy: 0.9743\n",
      "Epoch 1/10\n",
      "375/375 [==============================] - 4s 9ms/step - loss: 0.4711 - accuracy: 0.8634 - val_loss: 0.1436 - val_accuracy: 0.9596\n",
      "Epoch 2/10\n",
      "375/375 [==============================] - 3s 9ms/step - loss: 0.1303 - accuracy: 0.9623 - val_loss: 0.1057 - val_accuracy: 0.9689\n",
      "Epoch 3/10\n",
      "375/375 [==============================] - 3s 9ms/step - loss: 0.0779 - accuracy: 0.9772 - val_loss: 0.0870 - val_accuracy: 0.9743\n",
      "Epoch 4/10\n",
      "375/375 [==============================] - 3s 9ms/step - loss: 0.0552 - accuracy: 0.9849 - val_loss: 0.0857 - val_accuracy: 0.9737\n",
      "Epoch 5/10\n",
      "375/375 [==============================] - 3s 9ms/step - loss: 0.0401 - accuracy: 0.9884 - val_loss: 0.0860 - val_accuracy: 0.9759\n",
      "Epoch 6/10\n",
      "375/375 [==============================] - 3s 9ms/step - loss: 0.0293 - accuracy: 0.9910 - val_loss: 0.0830 - val_accuracy: 0.9765\n",
      "Epoch 7/10\n",
      "375/375 [==============================] - 3s 8ms/step - loss: 0.0231 - accuracy: 0.9931 - val_loss: 0.0766 - val_accuracy: 0.9792\n",
      "Epoch 8/10\n",
      "375/375 [==============================] - 3s 9ms/step - loss: 0.0189 - accuracy: 0.9944 - val_loss: 0.0802 - val_accuracy: 0.9783\n",
      "Epoch 9/10\n",
      "375/375 [==============================] - 3s 9ms/step - loss: 0.0125 - accuracy: 0.9965 - val_loss: 0.0906 - val_accuracy: 0.9772\n",
      "Epoch 10/10\n",
      "375/375 [==============================] - 3s 9ms/step - loss: 0.0100 - accuracy: 0.9972 - val_loss: 0.0873 - val_accuracy: 0.9795\n"
     ]
    }
   ],
   "source": [
    "from tensorflow import keras \n",
    "from tensorflow.keras import layers\n",
    "  \n",
    "def get_model():\n",
    "    model = keras.Sequential([\n",
    "        layers.Dense(512, activation=\"relu\"),\n",
    "        layers.Dense(10, activation=\"softmax\")\n",
    "    ])\n",
    "    model.compile(optimizer=\"rmsprop\",\n",
    "                  loss=\"sparse_categorical_crossentropy\",\n",
    "                  metrics=[\"accuracy\"])\n",
    "    return model\n",
    "model = get_model()\n",
    "history_noise = model.fit(\n",
    "    train_images_with_noise_channels, train_labels,\n",
    "    epochs=10,\n",
    "    batch_size=128,\n",
    "    validation_split=0.2)\n",
    "  \n",
    "model = get_model()\n",
    "history_zeros = model.fit(\n",
    "    train_images_with_zeros_channels, train_labels,\n",
    "    epochs=10,\n",
    "    batch_size=128,\n",
    "    validation_split=0.2)"
   ]
  },
  {
   "cell_type": "code",
   "execution_count": 3,
   "metadata": {},
   "outputs": [
    {
     "data": {
      "text/plain": [
       "<matplotlib.legend.Legend at 0x1f129fd6fa0>"
      ]
     },
     "execution_count": 3,
     "metadata": {},
     "output_type": "execute_result"
    },
    {
     "data": {
      "image/png": "[encoded data removed]",
      "text/plain": [
       "<Figure size 432x288 with 1 Axes>"
      ]
     },
     "metadata": {
      "needs_background": "light"
     },
     "output_type": "display_data"
    }
   ],
   "source": [
    "import matplotlib.pyplot as plt\n",
    "val_acc_noise = history_noise.history[\"val_accuracy\"]\n",
    "val_acc_zeros = history_zeros.history[\"val_accuracy\"]\n",
    "epochs = range(1, 11)\n",
    "plt.plot(epochs, val_acc_noise, \"b-\",\n",
    "         label=\"Validation accuracy with noise channels\")\n",
    "plt.plot(epochs, val_acc_zeros, \"b--\",\n",
    "         label=\"Validation accuracy with zeros channels\")\n",
    "plt.title(\"Effect of noise channels on validation accuracy\")\n",
    "plt.xlabel(\"Epochs\")\n",
    "plt.ylabel(\"Accuracy\")\n",
    "plt.legend()"
   ]
  },
  {
   "cell_type": "code",
   "execution_count": null,
   "metadata": {},
   "outputs": [],
   "source": []
  }
 ],
 "metadata": {
  "kernelspec": {
   "display_name": "Python 3 (ipykernel)",
   "language": "python",
   "name": "python3"
  },
  "language_info": {
   "codemirror_mode": {
    "name": "ipython",
    "version": 3
   },
   "file_extension": ".py",
   "mimetype": "text/x-python",
   "name": "python",
   "nbconvert_exporter": "python",
   "pygments_lexer": "ipython3",
   "version": "3.8.10"
  }
 },
 "nbformat": 4,
 "nbformat_minor": 4
}
